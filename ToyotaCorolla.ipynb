{
 "nbformat": 4,
 "nbformat_minor": 0,
 "metadata": {
  "colab": {
   "provenance": []
  },
  "kernelspec": {
   "name": "python3",
   "language": "python",
   "display_name": "Python 3 (ipykernel)"
  },
  "language_info": {
   "name": "python"
  }
 },
 "cells": [
  {
   "cell_type": "code",
   "source": [
    "#Instalar MLFLOW y PYNGROK\n",
    "#!pip install mlflow"
   ],
   "metadata": {
    "colab": {
     "base_uri": "https://localhost:8080/"
    },
    "id": "DHWnNuaV5kNy",
    "outputId": "469799c8-2569-419c-9e10-ccbb76482393"
   },
   "execution_count": null,
   "outputs": []
  },
  {
   "cell_type": "code",
   "source": [
    "#Verificar si MLFLOW está instalado\n",
    "!mlflow"
   ],
   "metadata": {
    "colab": {
     "base_uri": "https://localhost:8080/"
    },
    "id": "Fm33n8E7FS5Z",
    "outputId": "ef749a5a-b119-493e-d2d8-abe16f4b0b89",
    "ExecuteTime": {
     "end_time": "2023-09-27T18:15:41.179509100Z",
     "start_time": "2023-09-27T18:15:37.352395800Z"
    }
   },
   "execution_count": 1,
   "outputs": [
    {
     "name": "stdout",
     "output_type": "stream",
     "text": [
      "Usage: mlflow [OPTIONS] COMMAND [ARGS]...\n",
      "\n",
      "Options:\n",
      "  --version  Show the version and exit.\n",
      "  --help     Show this message and exit.\n",
      "\n",
      "Commands:\n",
      "  artifacts    Upload, list, and download artifacts from an MLflow...\n",
      "  db           Commands for managing an MLflow tracking database.\n",
      "  deployments  Deploy MLflow models to custom targets.\n",
      "  doctor       Prints out useful information for debugging issues with MLflow.\n",
      "  experiments  Manage experiments.\n",
      "  gc           Permanently delete runs in the `deleted` lifecycle stage.\n",
      "  models       Deploy MLflow models locally.\n",
      "  recipes      Run MLflow Recipes and inspect recipe results.\n",
      "  run          Run an MLflow project from the given URI.\n",
      "  runs         Manage runs.\n",
      "  sagemaker    Serve models on SageMaker.\n",
      "  server       Run the MLflow tracking server.\n"
     ]
    }
   ]
  },
  {
   "cell_type": "code",
   "execution_count": 2,
   "metadata": {
    "id": "0HGcfeWp2-W4",
    "ExecuteTime": {
     "end_time": "2023-09-27T18:16:21.326405700Z",
     "start_time": "2023-09-27T18:16:17.775305400Z"
    }
   },
   "outputs": [],
   "source": [
    "import pandas as pd\n",
    "import numpy as np\n",
    "\n",
    "import matplotlib.pyplot as plt\n",
    "import seaborn as sns\n",
    "\n",
    "from sklearn.model_selection import train_test_split\n",
    "from sklearn.metrics import mean_squared_error, mean_absolute_error, mean_absolute_percentage_error\n",
    "\n",
    "import statsmodels.api as sm\n",
    "\n",
    "import warnings\n",
    "warnings.filterwarnings('ignore')\n",
    "\n",
    "plt.style.use('ggplot')\n",
    "\n",
    "%matplotlib inline\n"
   ]
  },
  {
   "cell_type": "code",
   "source": [
    "import mlflow\n",
    "import mlflow.sklearn\n",
    "\n",
    "mlflow.set_experiment('ToyotaCorolla')"
   ],
   "metadata": {
    "colab": {
     "base_uri": "https://localhost:8080/"
    },
    "id": "mbUYl5U85q1p",
    "outputId": "f20a7bd6-5186-4d92-a4ed-fd66c641508c"
   },
   "execution_count": null,
   "outputs": []
  },
  {
   "cell_type": "markdown",
   "source": [
    "Importar Dataset"
   ],
   "metadata": {
    "id": "6AMRAZP0OEEm"
   }
  },
  {
   "cell_type": "code",
   "source": [
    "\n",
    "file_name = 'ToyotaCorolla.csv'\n",
    "df_raw = pd.read_csv(file_name, engine='python')\n",
    "\n",
    "print(f'Dimensiones del dataset: {df_raw.shape}')\n"
   ],
   "metadata": {
    "id": "g9_rgpDz3V_F",
    "colab": {
     "base_uri": "https://localhost:8080/"
    },
    "outputId": "bbebf2b0-5b00-466e-88c2-a1a079328df8"
   },
   "execution_count": null,
   "outputs": []
  },
  {
   "cell_type": "markdown",
   "source": [
    "Visualizar columnas del dataset"
   ],
   "metadata": {
    "id": "i10koZeoOJgP"
   }
  },
  {
   "cell_type": "code",
   "source": [
    "df_raw.columns"
   ],
   "metadata": {
    "colab": {
     "base_uri": "https://localhost:8080/"
    },
    "id": "Ff1yE83J7EDa",
    "outputId": "74362157-39e0-4377-e4bc-c6a300d08d4f"
   },
   "execution_count": null,
   "outputs": []
  },
  {
   "cell_type": "markdown",
   "source": [
    "Ver informacion y tipo de dato de cada columna"
   ],
   "metadata": {
    "id": "9aW1jknBOUK-"
   }
  },
  {
   "cell_type": "code",
   "source": [
    "df_raw.info()"
   ],
   "metadata": {
    "colab": {
     "base_uri": "https://localhost:8080/"
    },
    "id": "W-2SKKgS7PLS",
    "outputId": "f297645d-e2da-4865-baaf-b4c962aa987d"
   },
   "execution_count": null,
   "outputs": []
  },
  {
   "cell_type": "markdown",
   "source": [
    "Otra manera de ver los tipos de datos"
   ],
   "metadata": {
    "id": "zXCyyMRcO7xV"
   }
  },
  {
   "cell_type": "code",
   "source": [
    "data_types = df_raw.dtypes\n",
    "print(data_types)"
   ],
   "metadata": {
    "colab": {
     "base_uri": "https://localhost:8080/"
    },
    "id": "W0wR4HafO-Tu",
    "outputId": "60152ec5-f2f9-4a6e-b15f-92a77145ee60"
   },
   "execution_count": null,
   "outputs": []
  },
  {
   "cell_type": "markdown",
   "source": [
    "Convertir los nombres de las columnas a minúscula"
   ],
   "metadata": {
    "id": "IbCiFpJkPCsW"
   }
  },
  {
   "cell_type": "code",
   "source": [
    "df_raw.columns = df_raw.columns.str.lower()"
   ],
   "metadata": {
    "id": "hzedtacDPFvV"
   },
   "execution_count": null,
   "outputs": []
  },
  {
   "cell_type": "markdown",
   "source": [
    "Verificación de que los nombres de las columnas fueron modificadas a minuscula"
   ],
   "metadata": {
    "id": "G9qB8Sw9PJrd"
   }
  },
  {
   "cell_type": "code",
   "source": [
    "df_raw.columns"
   ],
   "metadata": {
    "colab": {
     "base_uri": "https://localhost:8080/"
    },
    "id": "my0AcAgLPJZ9",
    "outputId": "78852927-daad-4be7-acd2-da58d3db8d80"
   },
   "execution_count": null,
   "outputs": []
  },
  {
   "cell_type": "code",
   "source": [
    "df_raw.describe(include='all').T"
   ],
   "metadata": {
    "colab": {
     "base_uri": "https://localhost:8080/",
     "height": 1000
    },
    "id": "FpCqZNURPOX9",
    "outputId": "8563cb7f-3600-4317-bbc0-a77c1662e287"
   },
   "execution_count": null,
   "outputs": []
  },
  {
   "cell_type": "markdown",
   "source": [
    "Eliminar las primeras columnas innecesarias"
   ],
   "metadata": {
    "id": "VbIh2EU6PS1d"
   }
  },
  {
   "cell_type": "code",
   "source": [
    "columns_to_delete = ['id', 'model', 'cylinders'] #, 'mfg_month', 'mfg_year']\n",
    "df = df_raw.drop(columns=columns_to_delete, axis=1)\n",
    "df = pd.DataFrame(df)"
   ],
   "metadata": {
    "id": "zlSkaxIXPZMl"
   },
   "execution_count": null,
   "outputs": []
  },
  {
   "cell_type": "code",
   "source": [
    "df.info()"
   ],
   "metadata": {
    "colab": {
     "base_uri": "https://localhost:8080/"
    },
    "id": "18kY7C4tQKnt",
    "outputId": "d9eb37b5-7fc8-4339-bb75-43f960c32df3"
   },
   "execution_count": null,
   "outputs": []
  },
  {
   "cell_type": "code",
   "source": [
    "df.describe(include='all').T"
   ],
   "metadata": {
    "colab": {
     "base_uri": "https://localhost:8080/",
     "height": 1000
    },
    "id": "eoR1meRKQQu1",
    "outputId": "bdd3d4d0-a167-4cd4-fb26-1b710f9d7364"
   },
   "execution_count": null,
   "outputs": []
  },
  {
   "cell_type": "markdown",
   "source": [
    "Buscamos valores nulos"
   ],
   "metadata": {
    "id": "ayNm3ptHQjzc"
   }
  },
  {
   "cell_type": "code",
   "source": [
    "df.isnull().sum()"
   ],
   "metadata": {
    "colab": {
     "base_uri": "https://localhost:8080/"
    },
    "id": "bwVRpQjXQbvs",
    "outputId": "fa3e8e53-9605-450b-9d7b-f1450443dc1f"
   },
   "execution_count": null,
   "outputs": []
  },
  {
   "cell_type": "markdown",
   "source": [
    "Buscamos valores duplicados"
   ],
   "metadata": {
    "id": "7ksSmZweQfnt"
   }
  },
  {
   "cell_type": "code",
   "source": [
    "df[df.duplicated()]"
   ],
   "metadata": {
    "colab": {
     "base_uri": "https://localhost:8080/",
     "height": 130
    },
    "id": "CxxyCJCDQeYU",
    "outputId": "c7558aa9-5647-4d53-b923-0d951a3fb9cb"
   },
   "execution_count": null,
   "outputs": []
  },
  {
   "cell_type": "code",
   "source": [
    "#Dada la duplicación de un registro, es temprano para decidir si eliminarlo o no."
   ],
   "metadata": {
    "id": "isXk9-TrQ7O-"
   },
   "execution_count": null,
   "outputs": []
  },
  {
   "cell_type": "markdown",
   "source": [
    "Mostrar la variable objetivo"
   ],
   "metadata": {
    "id": "LYnSeJIBRAfF"
   }
  },
  {
   "cell_type": "code",
   "source": [
    "fig, (ax1, ax2) = plt.subplots(nrows=1, ncols=2, figsize=(10, 7))\n",
    "fig.suptitle(\"Distribution of Price\")\n",
    "ax1.hist(df.price)\n",
    "ax1.set_xlabel(df.price.name)\n",
    "\n",
    "ax2.boxplot(df.price)\n",
    "ax2.set_xlabel(df.price.name)\n",
    "\n",
    "plt.show()"
   ],
   "metadata": {
    "colab": {
     "base_uri": "https://localhost:8080/",
     "height": 693
    },
    "id": "NdCixaYhQ-z8",
    "outputId": "891a0aad-ce0f-4898-b225-90bd90817ece"
   },
   "execution_count": null,
   "outputs": []
  },
  {
   "cell_type": "code",
   "source": [
    "# Se puede observar que el histograma presenta una forma similar a una distribución normal, pero con un alargamiento hacía la derecha.\n",
    "# Esta distribución presenta un sesgo positivo (o a la derecha), en donde la media tendrá un valor mayor que la mediana, y la mediana tendrá un valor mayor que la moda."
   ],
   "metadata": {
    "id": "Me1dfMVoRbSD"
   },
   "execution_count": null,
   "outputs": []
  },
  {
   "cell_type": "markdown",
   "source": [
    "Mostrar la variable objetivo con mayor zoom"
   ],
   "metadata": {
    "id": "6E_fE_5vSWtj"
   }
  },
  {
   "cell_type": "code",
   "source": [
    "fig, (ax1, ax2) = plt.subplots(nrows=1, ncols=2, figsize=(10, 7))\n",
    "fig.suptitle(\"Distribution of Price\")\n",
    "ax1.hist(df.price, bins=60)\n",
    "ax1.set_xlabel(df.price.name)\n",
    "\n",
    "ax2.boxplot(df.price)\n",
    "ax2.set_xlabel(df.price.name)\n",
    "\n",
    "plt.show()\n",
    "\n",
    "#En esta ocasión se configura el parámetro bins en 60, el cual por defecto es 10, y representa el número de contenedores que serán representados en el histograma."
   ],
   "metadata": {
    "colab": {
     "base_uri": "https://localhost:8080/",
     "height": 693
    },
    "id": "jdZy22BySZ4D",
    "outputId": "6a0b0c89-2672-4401-935c-25e2bd42140d"
   },
   "execution_count": null,
   "outputs": []
  },
  {
   "cell_type": "code",
   "source": [
    "# Ahora buscaremos el valor máximo a partir del cual la variable objetivo (precio) deja de caer dentro del extremo superior\n",
    "# del diagrama de caja-bigotes (boxplots)\n",
    "\n",
    "sns.boxplot(x=\"km\", y=\"price\", data=df)\n",
    "max_value = plt.gca().lines[4].get_ydata().max()\n",
    "print(\"Valor máximo:\", max_value)"
   ],
   "metadata": {
    "colab": {
     "base_uri": "https://localhost:8080/",
     "height": 470
    },
    "id": "i10cwITSSy87",
    "outputId": "b06f83ea-5baa-4a86-bf9d-4262aac70177"
   },
   "execution_count": null,
   "outputs": []
  },
  {
   "cell_type": "code",
   "source": [
    "registros_mayores = (df['price'] > max_value).sum()\n",
    "\n",
    "# Imprimir el número de registros mayores al valor umbral\n",
    "print(\"Número de registros mayores a\", max_value, \":\", registros_mayores)"
   ],
   "metadata": {
    "colab": {
     "base_uri": "https://localhost:8080/"
    },
    "id": "EqvTa2RwTLSy",
    "outputId": "d50ba86a-8612-45cb-a78a-ea8c2735dfc8"
   },
   "execution_count": null,
   "outputs": []
  },
  {
   "cell_type": "markdown",
   "source": [
    "Variables categoricas"
   ],
   "metadata": {
    "id": "DaQitGu-Txyj"
   }
  },
  {
   "cell_type": "code",
   "source": [
    "variables_categoricas = ['mfg_year', 'fuel_type', 'hp', 'met_color', 'automatic', 'cc', 'doors', 'gears',\n",
    "                         'quarterly_tax', 'mfr_guarantee', 'bovag_guarantee', 'guarantee_period', 'abs', 'airbag_1',\n",
    "                         'airbag_2' , 'airco', 'automatic_airco', 'boardcomputer', 'cd_player', 'central_lock',\n",
    "                         'powered_windows', 'power_steering', 'radio', 'sport_model', 'backseat_divider',\n",
    "                         'metallic_rim', 'radio_cassette']\n",
    "\n",
    "fig = plt.figure(figsize=(32,25))\n",
    "\n",
    "for i in range(len(variables_categoricas)):\n",
    "  continuos = variables_categoricas[i]\n",
    "\n",
    "  ax1 = fig.add_subplot(7,4,i+1)\n",
    "  ax1.set_xlabel(continuos)\n",
    "\n",
    "  df.groupby(continuos).size().plot(kind='bar')"
   ],
   "metadata": {
    "colab": {
     "base_uri": "https://localhost:8080/",
     "height": 1000
    },
    "id": "o3PSXWjkT1er",
    "outputId": "e2d20f0c-3007-4c98-b73f-cfb82203f4b1"
   },
   "execution_count": null,
   "outputs": []
  },
  {
   "cell_type": "code",
   "source": [
    "# Algunas variables binarias quedan sin ser representadas ya que son demasiadas. (tow_bar y mistlamps)"
   ],
   "metadata": {
    "id": "ZLN7qEKEZfkB"
   },
   "execution_count": null,
   "outputs": []
  },
  {
   "cell_type": "markdown",
   "source": [
    "Variables continuas"
   ],
   "metadata": {
    "id": "OhPDnC7tZpqJ"
   }
  },
  {
   "cell_type": "code",
   "source": [
    "variables_continuas = []\n",
    "\n",
    "fig = plt.figure(figsize=(34,25))\n",
    "\n",
    "for i in range(len(variables_continuas)):\n",
    "  continuos = variables_continuas[i]\n",
    "\n",
    "  ax1 = fig.add_subplot(3,5,i+1)\n",
    "  ax1.set_xlabel(continuos)\n",
    "\n",
    "  df[continuos].plot(kind='box')"
   ],
   "metadata": {
    "colab": {
     "base_uri": "https://localhost:8080/",
     "height": 34
    },
    "id": "p406qpghZpGK",
    "outputId": "3e35aaad-c839-43d0-8280-ec6fca9a57c2"
   },
   "execution_count": null,
   "outputs": []
  },
  {
   "cell_type": "code",
   "source": [
    "variables_continuas_scatter = ['age_08_04','km','hp','quarterly_tax','weight','cc']\n",
    "\n",
    "fig = plt.figure(figsize=(34,25))\n",
    "\n",
    "for i in range(len(variables_continuas_scatter)):\n",
    "    aux = variables_continuas_scatter[i]\n",
    "\n",
    "    ax1 = fig.add_subplot(6,5,i+1)\n",
    "    ax1.set_xlabel(aux)\n",
    "\n",
    "    plt.scatter(df[aux],df.price)"
   ],
   "metadata": {
    "colab": {
     "base_uri": "https://localhost:8080/",
     "height": 388
    },
    "id": "uZrgT7DZZy3h",
    "outputId": "6467c00c-4924-4048-8b51-522c53f632fd"
   },
   "execution_count": null,
   "outputs": []
  },
  {
   "cell_type": "code",
   "source": [
    "#Podemos observar como las variables hp, quartely_tax no son continuas, es decir son discretas.\n",
    "#Sin embargo podemos observar que la variable cc a primera vista parece continua, pero esto se debe a las proporciones del\n",
    "# del eje x (debido al outliers), en la gráfica anterior se puede observar como cc es un valor discreto y no continuo"
   ],
   "metadata": {
    "id": "CxWZ94J_bIf5"
   },
   "execution_count": null,
   "outputs": []
  },
  {
   "cell_type": "code",
   "source": [
    "#eliminar columnas por falta de significancia estadistica\n",
    "#columns_to_delete = ['doors', 'gears', 'cc', 'mfr_guarantee', 'met_color', 'automatic', 'guarantee_period']\n",
    "#df.drop(columns=columns_to_delete, axis=1, inplace=True)"
   ],
   "metadata": {
    "id": "_VWCACXwbXLw"
   },
   "execution_count": null,
   "outputs": []
  },
  {
   "cell_type": "code",
   "source": [
    "dummies = pd.get_dummies(data=df, columns=['fuel_type'], drop_first=True) # convierto las variables dummies\n",
    "pd.concat([df, dummies], axis=1)\n",
    "df.drop(columns=[\"fuel_type\"], axis=1, inplace=True)"
   ],
   "metadata": {
    "id": "6_7teeB3wlie"
   },
   "execution_count": null,
   "outputs": []
  },
  {
   "cell_type": "code",
   "source": [
    "split_param = {\n",
    "    'test_size': 0.4,\n",
    "    'random_state': 42,\n",
    "    'shuffle': True\n",
    "}\n",
    "\n",
    "x_train_1, x_test_1, y_train_1, y_test_1 = train_test_split(df.drop(['price'], axis=1), df.price, **split_param)\n",
    "x_train_1.shape, x_test_1.shape, y_train_1.shape, y_test_1.shape"
   ],
   "metadata": {
    "colab": {
     "base_uri": "https://localhost:8080/"
    },
    "id": "E7xr-H0EwosS",
    "outputId": "595d2312-6aca-4ec4-af82-b76487034f5d"
   },
   "execution_count": null,
   "outputs": []
  },
  {
   "cell_type": "markdown",
   "source": [
    "Primera ejecución de una regresión con todas las variables."
   ],
   "metadata": {
    "id": "wd0ABNhAxEut"
   }
  },
  {
   "cell_type": "code",
   "source": [
    "#Primera ejecución de una regresión con todas las variables.\n",
    "model = sm.OLS(y_train_1, sm.add_constant(x_train_1)).fit()\n",
    "print(model.summary())"
   ],
   "metadata": {
    "colab": {
     "base_uri": "https://localhost:8080/"
    },
    "id": "jxFjOo3Bwsal",
    "outputId": "bb232636-1fe2-4925-9fe5-993b2c59f728"
   },
   "execution_count": null,
   "outputs": []
  },
  {
   "cell_type": "code",
   "source": [
    "#Linea Base\n",
    "\n",
    "#Calculamos RMSE (error cuadratico medio)\n",
    "y_pred_1 = model.predict(sm.add_constant(x_test_1))\n",
    "RMSE = mean_squared_error(y_test_1,y_pred_1, squared = 'false')\n",
    "print(f'RMSE: {RMSE}')"
   ],
   "metadata": {
    "id": "kvkpXkTxpA6f",
    "colab": {
     "base_uri": "https://localhost:8080/"
    },
    "outputId": "9b058a8e-e50e-4223-db3f-41a2324920ec"
   },
   "execution_count": null,
   "outputs": []
  },
  {
   "cell_type": "markdown",
   "source": [
    " Tracking del primer modelo arrojado por la regresión (baseline)\n",
    "\n",
    "* R2: 0.912\n",
    "* R2-ajustado: 0.909\n",
    "* kurtosis: 5.359\n",
    "* skew: 0.069\n",
    "* durbin-watson: 1.990\n",
    "* RMSE: 1376324.3921468968"
   ],
   "metadata": {
    "id": "6_RnVAPWdjrS"
   }
  },
  {
   "cell_type": "code",
   "source": [
    "dw = print(round(sm.stats.stattools.durbin_watson(model.resid),3))"
   ],
   "metadata": {
    "colab": {
     "base_uri": "https://localhost:8080/"
    },
    "id": "_SLCYJX18KGa",
    "outputId": "1e285fd1-790f-443c-f70b-57e88c7d7fa4"
   },
   "execution_count": null,
   "outputs": []
  },
  {
   "cell_type": "code",
   "source": [
    "with mlflow.start_run():\n",
    "  #mlflow.log_metric(\"accuracy\", accuracy)\n",
    "  mlflow.log_params({\"R2\": model.rsquared, \"R2-Ajustado\": model.rsquared_adj, \"Skew\": model.resid.skew, \"Kurtosis\": model.resid.kurtosis, \"Durbin-Watson\": dw, \"MSE - RMSE\": RMSE})\n",
    "\n",
    "  mlflow.sklearn.log_model(model, \"modelo 1\")"
   ],
   "metadata": {
    "id": "RT89opbP52vJ"
   },
   "execution_count": null,
   "outputs": []
  },
  {
   "cell_type": "markdown",
   "source": [
    "# Análisis de la regresión y decisión sobre las variables"
   ],
   "metadata": {
    "id": "DjjIwGZZe0us"
   }
  },
  {
   "cell_type": "code",
   "source": [
    "# met_color -> t = 0.605 y P>|t| = 0.546\n",
    "# Falta de significancia estadística: El valor \"t\" se utiliza para evaluar si el coeficiente es estadísticamente\n",
    "# diferente de cero. En este caso, un valor \"t\" de 0.605 sugiere que el coeficiente no es muy diferente de cero.\n",
    "# Si el valor \"t\" es cercano a cero, esto indica que la variable independiente correspondiente puede no estar\n",
    "# contribuyendo significativamente a la predicción del resultado. Esto podría sugerir que la variable no es relevante\n",
    "# en el modelo y podría eliminarse.\n",
    "\n",
    "# Alto valor p: El valor \"P>|t|\" se utiliza para evaluar si el coeficiente es estadísticamente significativo.\n",
    "# Un valor p alto, como 0.546, sugiere que no hay suficiente evidencia para rechazar la hipótesis nula de que el\n",
    "# coeficiente es igual a cero. En otras palabras, la variable independiente no tiene un efecto estadísticamente\n",
    "# significativo en el resultado. Un valor p alto es una indicación de que la variable podría no ser importante en el\n",
    "# modelo.\n",
    "\n",
    "#Siguiendo esta linea las variables a eliminar son:\n",
    "\n",
    "# met_color ->  t = 0.605 y  P>|t| = 0.546\n",
    "# cc ->  t = -1.193 y  P>|t| = 0.233\n",
    "# gears ->  t = 0.763  y  P>|t| = 0.446\n",
    "# airbag_1 ->  t = 0.556  y  P>|t| = 0.578\n",
    "# airbag_2 ->  t = 0.441  y  P>|t| = 0.659\n",
    "# cd_player ->  t = 1.440  y  P>|t| = 0.150\n",
    "# central_lock -> t = -1.062  y  P>|t| = 0.289\n",
    "# power_steering -> t = -0.467 y  P>|t| = 0.641\n",
    "# radio -> t = -1.120  y  P>|t| = 0.263\n",
    "# mistlamps -> t = 0.247 y  P>|t| = 0.805\n",
    "# backseat_divider -> t = -0.955  y  P>|t| = 0.340\n",
    "# metallic_rim -> t = 0.219  y  P>|t| =  0.827\n",
    "# radio_cassette -> t = 1.027  y  P>|t| = 0.305"
   ],
   "metadata": {
    "id": "vfttwh0pchit"
   },
   "execution_count": null,
   "outputs": []
  },
  {
   "cell_type": "markdown",
   "source": [
    "# Comienzo nuevo modelo - MODELO 2"
   ],
   "metadata": {
    "id": "MgSaErj7nRkG"
   }
  },
  {
   "cell_type": "code",
   "source": [
    "columns_to_delete = ['met_color', 'cc', 'gears', 'airbag_1', 'airbag_2', 'cd_player', 'central_lock',\n",
    "                     'power_steering', 'radio', 'mistlamps', 'backseat_divider', 'metallic_rim', 'radio_cassette' ] #, 'mfg_month', 'mfg_year']\n",
    "df2 = df.drop(columns=columns_to_delete, axis=1)\n",
    "df2 = pd.DataFrame(df2)"
   ],
   "metadata": {
    "id": "YkMrWdFKi2Il"
   },
   "execution_count": null,
   "outputs": []
  },
  {
   "cell_type": "code",
   "source": [
    "split_param = {\n",
    "    'test_size': 0.4,\n",
    "    'random_state': 42,\n",
    "    'shuffle': True\n",
    "}\n",
    "\n",
    "x_train_2, x_test_2, y_train_2, y_test_2 = train_test_split(df2.drop(['price'], axis=1), df2.price, **split_param)\n",
    "x_train_2.shape, x_test_2.shape, y_train_2.shape, y_test_2.shape"
   ],
   "metadata": {
    "colab": {
     "base_uri": "https://localhost:8080/"
    },
    "id": "fhSjhM-PuQ5h",
    "outputId": "fa94f1a4-7570-44c8-9182-bf1af0fc34f4"
   },
   "execution_count": null,
   "outputs": []
  },
  {
   "cell_type": "code",
   "source": [
    "#Segunda ejecución de una regresión con todas las variables.\n",
    "model2 = sm.OLS(y_train_2, sm.add_constant(x_train_2)).fit()\n",
    "print(model2.summary())"
   ],
   "metadata": {
    "colab": {
     "base_uri": "https://localhost:8080/"
    },
    "id": "czcKNMc3uZJJ",
    "outputId": "d13e6168-074b-4d0f-9220-a5bdfe9c4603"
   },
   "execution_count": null,
   "outputs": []
  },
  {
   "cell_type": "code",
   "source": [
    "#Calculamos RMSE (error cuadratico medio)\n",
    "y_pred_2 = model2.predict(sm.add_constant(x_test_2))\n",
    "RMSE = mean_squared_error(y_test_2,y_pred_2,squared = 'false')\n",
    "print(f'RMSE: {RMSE}')"
   ],
   "metadata": {
    "colab": {
     "base_uri": "https://localhost:8080/"
    },
    "id": "WZBpbwU4vkzS",
    "outputId": "ad2fda11-6e5c-435e-e7ab-537674471cb7"
   },
   "execution_count": null,
   "outputs": []
  },
  {
   "cell_type": "markdown",
   "source": [
    " Tracking del segundo modelo\n",
    "\n",
    "* R2: 0.911\n",
    "* R2-ajustado: 0.909\n",
    "* kurtosis: 5.460\n",
    "* skew: 0.040\n",
    "* durbin-watson: 1.978\n",
    "* RMSE: 1367838.6712162532"
   ],
   "metadata": {
    "id": "7z6jbH0GwpAy"
   }
  },
  {
   "cell_type": "code",
   "source": [
    "dw = print(round(sm.stats.stattools.durbin_watson(model2.resid),3))"
   ],
   "metadata": {
    "colab": {
     "base_uri": "https://localhost:8080/"
    },
    "id": "wT2zby7-DOak",
    "outputId": "53b44b2e-282b-476a-da9e-6efd637676a0"
   },
   "execution_count": null,
   "outputs": []
  },
  {
   "cell_type": "code",
   "source": [
    "with mlflow.start_run():\n",
    "  #mlflow.log_metric(\"accuracy\", accuracy)\n",
    "  mlflow.log_params({\"R2\": model2.rsquared, \"R2-Ajustado\": model2.rsquared_adj, \"Skew\": model2.resid.skew, \"Kurtosis\": model2.resid.kurtosis, \"Durbin-Watson\": dw, \"MSE - RMSE\": RMSE})\n",
    "\n",
    "  mlflow.sklearn.log_model(model, \"modelo 2\")"
   ],
   "metadata": {
    "id": "UIsm0fADDRk0"
   },
   "execution_count": null,
   "outputs": []
  },
  {
   "cell_type": "code",
   "source": [
    "#Siguiendo esta linea las variables a eliminar son:\n",
    "\n",
    "# mfg_year\n",
    "# mfg_month\n",
    "# automatic\n",
    "# doors\n",
    "# mfr_guarantee"
   ],
   "metadata": {
    "id": "2JbnoJb9IvlM"
   },
   "execution_count": null,
   "outputs": []
  },
  {
   "cell_type": "markdown",
   "source": [
    "# Comienzo nuevo modelo - MODELO 3"
   ],
   "metadata": {
    "id": "X0EjdlmUJX-_"
   }
  },
  {
   "cell_type": "code",
   "source": [
    "columns_to_delete = ['mfg_year', 'mfg_month', 'automatic', 'doors', 'mfr_guarantee']\n",
    "df3 = df2.drop(columns=columns_to_delete, axis=1)\n",
    "df3 = pd.DataFrame(df3)"
   ],
   "metadata": {
    "id": "-LjrhhrRJbCk"
   },
   "execution_count": null,
   "outputs": []
  },
  {
   "cell_type": "code",
   "source": [
    "split_param = {\n",
    "    'test_size': 0.4,\n",
    "    'random_state': 42,\n",
    "    'shuffle': True\n",
    "}\n",
    "\n",
    "x_train_3, x_test_3, y_train_3, y_test_3 = train_test_split(df3.drop(['price'], axis=1), df3.price, **split_param)\n",
    "x_train_3.shape, x_test_3.shape, y_train_3.shape, y_test_3.shape"
   ],
   "metadata": {
    "colab": {
     "base_uri": "https://localhost:8080/"
    },
    "id": "EiVlOQFUJmo9",
    "outputId": "8bedda32-0940-42b8-c717-6a5bdeaf806e"
   },
   "execution_count": null,
   "outputs": []
  },
  {
   "cell_type": "code",
   "source": [
    "#Tercera ejecución de una regresión con todas las variables.\n",
    "model3 = sm.OLS(y_train_3, sm.add_constant(x_train_3)).fit()\n",
    "print(model3.summary())"
   ],
   "metadata": {
    "colab": {
     "base_uri": "https://localhost:8080/"
    },
    "id": "hFqBdn87Jqq0",
    "outputId": "df92f2c1-7b97-4b74-922b-009847bdc847"
   },
   "execution_count": null,
   "outputs": []
  },
  {
   "cell_type": "code",
   "source": [
    "#Calculamos RMSE (error cuadratico medio)\n",
    "y_pred_3 = model3.predict(sm.add_constant(x_test_3))\n",
    "RMSE = mean_squared_error(y_test_3,y_pred_3, squared = 'false')\n",
    "print(f'RMSE: {RMSE}')"
   ],
   "metadata": {
    "colab": {
     "base_uri": "https://localhost:8080/"
    },
    "id": "Mqpd6soaJz4k",
    "outputId": "8fde9ab3-2b2a-4f74-a02d-7903f9551e8d"
   },
   "execution_count": null,
   "outputs": []
  },
  {
   "cell_type": "markdown",
   "source": [
    "Tracking del segundo modelo\n",
    "\n",
    "* R2: 0.899\n",
    "* R2-ajustado: 0.897\n",
    "* kurtosis: 4.636\n",
    "* skew: -0.039\n",
    "* durbin-watson: 2.007\n",
    "* RMSE: 1438163.9047859225"
   ],
   "metadata": {
    "id": "kpyAxNUDJ6At"
   }
  },
  {
   "cell_type": "code",
   "source": [
    "dw = print(round(sm.stats.stattools.durbin_watson(model3.resid),3))"
   ],
   "metadata": {
    "id": "_uS6Jf8bAhSb",
    "colab": {
     "base_uri": "https://localhost:8080/"
    },
    "outputId": "7cdff280-ff7c-421b-9a39-52506207fa0b"
   },
   "execution_count": null,
   "outputs": []
  },
  {
   "cell_type": "code",
   "source": [
    "with mlflow.start_run():\n",
    "  #mlflow.log_metric(\"accuracy\", accuracy)\n",
    "  mlflow.log_params({\"R2\": model3.rsquared, \"R2-Ajustado\": model3.rsquared_adj, \"Skew\": model3.resid.skew, \"Kurtosis\": model3.resid.kurtosis, \"Durbin-Watson\": dw, \"MSE - RMSE\": RMSE})\n",
    "\n",
    "  mlflow.sklearn.log_model(model, \"modelo 3\")"
   ],
   "metadata": {
    "id": "Zqlq-ZTeAitI"
   },
   "execution_count": null,
   "outputs": []
  },
  {
   "cell_type": "code",
   "source": [
    "#Siguiendo esta linea las variables a eliminar son:\n",
    "\n",
    "# boardcomputer"
   ],
   "metadata": {
    "id": "wddMXbvtKUrG"
   },
   "execution_count": null,
   "outputs": []
  },
  {
   "cell_type": "markdown",
   "source": [
    "# Comienzo nuevo modelo - MODELO 4"
   ],
   "metadata": {
    "id": "lB3KZT84KdBc"
   }
  },
  {
   "cell_type": "code",
   "source": [
    "columns_to_delete = ['boardcomputer']\n",
    "df4 = df3.drop(columns=columns_to_delete, axis=1)\n",
    "df4 = pd.DataFrame(df4)"
   ],
   "metadata": {
    "id": "RNFqJ_ZyKfzE"
   },
   "execution_count": null,
   "outputs": []
  },
  {
   "cell_type": "code",
   "source": [
    "split_param = {\n",
    "    'test_size': 0.4,\n",
    "    'random_state': 42,\n",
    "    'shuffle': True\n",
    "}\n",
    "\n",
    "x_train_4, x_test_4, y_train_4, y_test_4 = train_test_split(df4.drop(['price'], axis=1), df4.price, **split_param)\n",
    "x_train_4.shape, x_test_4.shape, y_train_4.shape, y_test_4.shape"
   ],
   "metadata": {
    "colab": {
     "base_uri": "https://localhost:8080/"
    },
    "id": "ZyMFAEWXKksm",
    "outputId": "89045e5a-593e-4c6d-b519-f1bd0d1cdc17"
   },
   "execution_count": null,
   "outputs": []
  },
  {
   "cell_type": "code",
   "source": [
    "#Cuarta ejecución de una regresión con todas las variables.\n",
    "model4 = sm.OLS(y_train_4, sm.add_constant(x_train_4)).fit()\n",
    "print(model4.summary())"
   ],
   "metadata": {
    "colab": {
     "base_uri": "https://localhost:8080/"
    },
    "id": "HXO2iYF1KqCF",
    "outputId": "51ad6808-89b5-42ac-8ff3-24fa4159ff77"
   },
   "execution_count": null,
   "outputs": []
  },
  {
   "cell_type": "code",
   "source": [
    "#Calculamos RMSE (error cuadratico medio)\n",
    "y_pred_4 = model4.predict(sm.add_constant(x_test_4))\n",
    "RMSE = mean_squared_error(y_test_4,y_pred_4, squared = 'false')\n",
    "print(f'RMSE: {RMSE}')"
   ],
   "metadata": {
    "colab": {
     "base_uri": "https://localhost:8080/"
    },
    "id": "meliBzLQKvo1",
    "outputId": "639101ab-b038-417f-ba72-10f874b43f70"
   },
   "execution_count": null,
   "outputs": []
  },
  {
   "cell_type": "code",
   "source": [
    "dw = print(round(sm.stats.stattools.durbin_watson(model4.resid),3))"
   ],
   "metadata": {
    "colab": {
     "base_uri": "https://localhost:8080/"
    },
    "id": "vVC8mch3DfpM",
    "outputId": "ca3a9448-6220-4427-ead7-906f81b2f0bd"
   },
   "execution_count": null,
   "outputs": []
  },
  {
   "cell_type": "code",
   "source": [
    "with mlflow.start_run():\n",
    "  #mlflow.log_metric(\"accuracy\", accuracy)\n",
    "  mlflow.log_params({\"R2\": model4.rsquared, \"R2-Ajustado\": model4.rsquared_adj, \"Skew\": model4.resid.skew, \"Kurtosis\": model4.resid.kurtosis, \"Durbin-Watson\": dw, \"MSE - RMSE\": RMSE})\n",
    "\n",
    "  mlflow.sklearn.log_model(model, \"modelo 4\")\n"
   ],
   "metadata": {
    "id": "aVSsSJLbDj5c"
   },
   "execution_count": null,
   "outputs": []
  },
  {
   "cell_type": "markdown",
   "source": [
    "TEST"
   ],
   "metadata": {
    "id": "_Ox1FcZztC4c"
   }
  },
  {
   "cell_type": "code",
   "source": [
    "testDf = df4"
   ],
   "metadata": {
    "id": "uZC3f8PWtE-T"
   },
   "execution_count": null,
   "outputs": []
  },
  {
   "cell_type": "code",
   "source": [
    "fig, (ax1, ax2) = plt.subplots(nrows=1, ncols=2, figsize=(10, 7))\n",
    "fig.suptitle(\"Distribution of Price\")\n",
    "ax1.hist(testDf.price, bins=60)\n",
    "ax1.set_xlabel(testDf.price.name)\n",
    "\n",
    "ax2.boxplot(testDf.price)\n",
    "ax2.set_xlabel(testDf.price.name)\n",
    "\n",
    "plt.show()"
   ],
   "metadata": {
    "colab": {
     "base_uri": "https://localhost:8080/",
     "height": 693
    },
    "id": "jJyYQph3ufxJ",
    "outputId": "59be4f69-2e79-4280-9d6e-d19246d82907"
   },
   "execution_count": null,
   "outputs": []
  },
  {
   "cell_type": "code",
   "source": [
    "sns.boxplot(x=\"km\", y=\"price\", data=testDf)\n",
    "max_value = plt.gca().lines[4].get_ydata().max()\n",
    "print(\"Valor máximo:\", max_value)"
   ],
   "metadata": {
    "colab": {
     "base_uri": "https://localhost:8080/",
     "height": 470
    },
    "id": "gCZ4YdBBuiIF",
    "outputId": "babfaf97-7db9-43e6-ff29-bfdefc136471"
   },
   "execution_count": null,
   "outputs": []
  },
  {
   "cell_type": "code",
   "source": [
    "# Crear una máscara booleana para los registros que cumplen la condición\n",
    "condicion = testDf['price'] <= 17847.5\n",
    "\n",
    "# Filtrar el DataFrame para mantener solo los registros que cumplen la condición\n",
    "df_filtrado = testDf[condicion]\n",
    "\n",
    "# Mostrar el DataFrame resultante\n",
    "df_filtrado.info()"
   ],
   "metadata": {
    "colab": {
     "base_uri": "https://localhost:8080/"
    },
    "id": "bY6Ude_Xu1PJ",
    "outputId": "41ce5704-0e72-4ccb-d48c-9c13b152fcc3"
   },
   "execution_count": null,
   "outputs": []
  },
  {
   "cell_type": "code",
   "source": [
    "fig, (ax1, ax2) = plt.subplots(nrows=1, ncols=2, figsize=(10, 7))\n",
    "fig.suptitle(\"Distribution of Price\")\n",
    "ax1.hist(df_filtrado.price, bins=80)\n",
    "ax1.set_xlabel(df_filtrado.price.name)\n",
    "\n",
    "ax2.boxplot(df_filtrado.price)\n",
    "ax2.set_xlabel(df_filtrado.price.name)\n",
    "\n",
    "plt.show()"
   ],
   "metadata": {
    "colab": {
     "base_uri": "https://localhost:8080/",
     "height": 693
    },
    "id": "MGSCcMM1wSFK",
    "outputId": "67e3fe1e-16af-4b6d-fdf3-1ca22f3d0ab2"
   },
   "execution_count": null,
   "outputs": []
  },
  {
   "cell_type": "code",
   "source": [
    "variables_continuas_scatter = ['age_08_04','km','hp','quarterly_tax','weight']\n",
    "\n",
    "fig = plt.figure(figsize=(34,25))\n",
    "\n",
    "for i in range(len(variables_continuas_scatter)):\n",
    "    aux = variables_continuas_scatter[i]\n",
    "\n",
    "    ax1 = fig.add_subplot(6,5,i+1)\n",
    "    ax1.set_xlabel(aux)\n",
    "\n",
    "    plt.scatter(df_filtrado[aux],df_filtrado.price)"
   ],
   "metadata": {
    "colab": {
     "base_uri": "https://localhost:8080/",
     "height": 173
    },
    "id": "-IAYqXRgxO5H",
    "outputId": "6159c49d-d0f8-4408-8e9b-3439053825c2"
   },
   "execution_count": null,
   "outputs": []
  },
  {
   "cell_type": "markdown",
   "source": [
    "# 5to Modelo"
   ],
   "metadata": {
    "id": "2x7g54kc4AJ_"
   }
  },
  {
   "cell_type": "code",
   "source": [
    "split_param = {\n",
    "    'test_size': 0.4,\n",
    "    'random_state': 42,\n",
    "    'shuffle': True\n",
    "}\n",
    "\n",
    "x_train_5, x_test_5, y_train_5, y_test_5 = train_test_split(df_filtrado.drop(['price'], axis=1), df_filtrado.price, **split_param)\n",
    "x_train_5.shape, x_test_5.shape, y_train_5.shape, y_test_5.shape"
   ],
   "metadata": {
    "colab": {
     "base_uri": "https://localhost:8080/"
    },
    "id": "zTcLW79D3sbZ",
    "outputId": "5ac85e7f-972d-4493-b6de-da93634dbfb8"
   },
   "execution_count": null,
   "outputs": []
  },
  {
   "cell_type": "code",
   "source": [
    "#Cuarta ejecución de una regresión con todas las variables.\n",
    "model5 = sm.OLS(y_train_5, sm.add_constant(x_train_5)).fit()\n",
    "print(model5.summary())"
   ],
   "metadata": {
    "colab": {
     "base_uri": "https://localhost:8080/"
    },
    "id": "gTQWXw_j4DIw",
    "outputId": "fb1dcbbb-9ad2-4646-d99b-98623cf6f844"
   },
   "execution_count": null,
   "outputs": []
  },
  {
   "cell_type": "code",
   "source": [
    "#Calculamos RMSE (error cuadratico medio)\n",
    "y_pred_5 = model5.predict(sm.add_constant(x_test_5))\n",
    "RMSE = mean_squared_error(y_test_5,y_pred_5, squared = 'false')\n",
    "print(f'RMSE: {RMSE}')"
   ],
   "metadata": {
    "colab": {
     "base_uri": "https://localhost:8080/"
    },
    "id": "7yVGrNCUD7C8",
    "outputId": "442f1f15-732b-454f-d9e2-fa66f1089f5b"
   },
   "execution_count": null,
   "outputs": []
  },
  {
   "cell_type": "code",
   "source": [
    "dw = print(round(sm.stats.stattools.durbin_watson(model5.resid),3))"
   ],
   "metadata": {
    "colab": {
     "base_uri": "https://localhost:8080/"
    },
    "id": "P8v5Lh2jECLE",
    "outputId": "434f3327-b0bd-42e0-cbd0-014e8edfe168"
   },
   "execution_count": null,
   "outputs": []
  },
  {
   "cell_type": "code",
   "source": [
    "with mlflow.start_run():\n",
    "  #mlflow.log_metric(\"accuracy\", accuracy)\n",
    "  mlflow.log_params({\"R2\": model5.rsquared, \"R2-Ajustado\": model5.rsquared_adj, \"Skew\": model5.resid.skew, \"Kurtosis\": model5.resid.kurtosis, \"Durbin-Watson\": dw, \"MSE - RMSE\": RMSE})\n",
    "\n",
    "  mlflow.sklearn.log_model(model, \"modelo 5\")"
   ],
   "metadata": {
    "id": "tl_qnzgHEFl8"
   },
   "execution_count": null,
   "outputs": []
  },
  {
   "cell_type": "code",
   "source": [
    "plt.figure(figsize=(12,12))\n",
    "plt.title(\"Mapa de Correlaciones\")\n",
    "corr = df_filtrado.corr(method=\"pearson\")\n",
    "sns.heatmap(corr, annot=True, cmap=plt.cm.viridis, linewidths=0.1, linecolor=\"white\", square=True)"
   ],
   "metadata": {
    "colab": {
     "base_uri": "https://localhost:8080/",
     "height": 1000
    },
    "id": "2eVtu71i4nlZ",
    "outputId": "32aaae9a-56ce-4ad0-e753-c1a85abc7ba3"
   },
   "execution_count": null,
   "outputs": []
  }
 ]
}
