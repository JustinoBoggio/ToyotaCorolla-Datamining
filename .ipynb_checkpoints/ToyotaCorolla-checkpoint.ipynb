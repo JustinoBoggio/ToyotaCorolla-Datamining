{
 "cells": [
  {
   "cell_type": "code",
   "execution_count": null,
   "metadata": {
    "colab": {
     "base_uri": "https://localhost:8080/"
    },
    "id": "DHWnNuaV5kNy",
    "outputId": "469799c8-2569-419c-9e10-ccbb76482393"
   },
   "outputs": [],
   "source": [
    "#Instalar MLFLOW y PYNGROK\n",
    "#!pip install mlflow"
   ]
  },
  {
   "cell_type": "code",
   "execution_count": 1,
   "metadata": {
    "ExecuteTime": {
     "end_time": "2023-10-02T00:37:40.328775100Z",
     "start_time": "2023-10-02T00:37:34.734054800Z"
    },
    "colab": {
     "base_uri": "https://localhost:8080/"
    },
    "id": "Fm33n8E7FS5Z",
    "outputId": "ef749a5a-b119-493e-d2d8-abe16f4b0b89"
   },
   "outputs": [
    {
     "name": "stdout",
     "output_type": "stream",
     "text": [
      "Usage: mlflow [OPTIONS] COMMAND [ARGS]...\n",
      "\n",
      "Options:\n",
      "  --version  Show the version and exit.\n",
      "  --help     Show this message and exit.\n",
      "\n",
      "Commands:\n",
      "  artifacts    Upload, list, and download artifacts from an MLflow...\n",
      "  db           Commands for managing an MLflow tracking database.\n",
      "  deployments  Deploy MLflow models to custom targets.\n",
      "  doctor       Prints out useful information for debugging issues with MLflow.\n",
      "  experiments  Manage experiments.\n",
      "  gc           Permanently delete runs in the `deleted` lifecycle stage.\n",
      "  models       Deploy MLflow models locally.\n",
      "  recipes      Run MLflow Recipes and inspect recipe results.\n",
      "  run          Run an MLflow project from the given URI.\n",
      "  runs         Manage runs.\n",
      "  sagemaker    Serve models on SageMaker.\n",
      "  server       Run the MLflow tracking server.\n"
     ]
    }
   ],
   "source": [
    "#Verificar si MLFLOW está instalado\n",
    "!mlflow"
   ]
  },
  {
   "cell_type": "code",
   "execution_count": 3,
   "metadata": {
    "ExecuteTime": {
     "end_time": "2023-10-02T00:43:55.444091700Z",
     "start_time": "2023-10-02T00:43:52.354793800Z"
    },
    "id": "0HGcfeWp2-W4"
   },
   "outputs": [],
   "source": [
    "import pandas as pd\n",
    "import numpy as np\n",
    "\n",
    "import matplotlib.pyplot as plt\n",
    "import seaborn as sns\n",
    "\n",
    "from sklearn.model_selection import train_test_split\n",
    "from sklearn.metrics import mean_squared_error, mean_absolute_error, mean_absolute_percentage_error\n",
    "\n",
    "import statsmodels.api as sm\n",
    "\n",
    "import warnings\n",
    "warnings.filterwarnings('ignore')\n",
    "\n",
    "plt.style.use('ggplot')\n",
    "\n",
    "%matplotlib inline\n"
   ]
  },
  {
   "cell_type": "code",
   "execution_count": 4,
   "metadata": {
    "ExecuteTime": {
     "end_time": "2023-10-02T00:44:01.582432200Z",
     "start_time": "2023-10-02T00:44:00.704772900Z"
    },
    "colab": {
     "base_uri": "https://localhost:8080/"
    },
    "id": "mbUYl5U85q1p",
    "outputId": "f20a7bd6-5186-4d92-a4ed-fd66c641508c"
   },
   "outputs": [
    {
     "name": "stderr",
     "output_type": "stream",
     "text": [
      "2023/10/01 21:44:01 INFO mlflow.tracking.fluent: Experiment with name 'ToyotaCorolla' does not exist. Creating a new experiment.\n"
     ]
    },
    {
     "data": {
      "text/plain": [
       "<Experiment: artifact_location='file:///C:/Users/Justino/OneDrive/UTN-FRT/5%C2%B0%20A%C3%B1o/Datamining/ToyotaCorolla-Datamining/mlruns/915647037735961866', creation_time=1696207441550, experiment_id='915647037735961866', last_update_time=1696207441550, lifecycle_stage='active', name='ToyotaCorolla', tags={}>"
      ]
     },
     "execution_count": 4,
     "metadata": {},
     "output_type": "execute_result"
    }
   ],
   "source": [
    "import mlflow\n",
    "import mlflow.sklearn\n",
    "\n",
    "mlflow.set_experiment('ToyotaCorolla')"
   ]
  },
  {
   "cell_type": "markdown",
   "metadata": {
    "id": "6AMRAZP0OEEm"
   },
   "source": [
    "Importar Dataset"
   ]
  },
  {
   "cell_type": "code",
   "execution_count": 5,
   "metadata": {
    "ExecuteTime": {
     "end_time": "2023-10-02T00:44:15.228999100Z",
     "start_time": "2023-10-02T00:44:15.084300300Z"
    },
    "colab": {
     "base_uri": "https://localhost:8080/"
    },
    "id": "g9_rgpDz3V_F",
    "outputId": "bbebf2b0-5b00-466e-88c2-a1a079328df8"
   },
   "outputs": [
    {
     "name": "stdout",
     "output_type": "stream",
     "text": [
      "Dimensiones del dataset: (1436, 37)\n"
     ]
    }
   ],
   "source": [
    "\n",
    "file_name = 'ToyotaCorolla.csv'\n",
    "df_raw = pd.read_csv(file_name, engine='python')\n",
    "\n",
    "print(f'Dimensiones del dataset: {df_raw.shape}')\n"
   ]
  },
  {
   "cell_type": "markdown",
   "metadata": {
    "id": "i10koZeoOJgP"
   },
   "source": [
    "Visualizar columnas del dataset"
   ]
  },
  {
   "cell_type": "code",
   "execution_count": 6,
   "metadata": {
    "ExecuteTime": {
     "end_time": "2023-10-02T00:44:17.775267900Z",
     "start_time": "2023-10-02T00:44:17.767266300Z"
    },
    "colab": {
     "base_uri": "https://localhost:8080/"
    },
    "id": "Ff1yE83J7EDa",
    "outputId": "74362157-39e0-4377-e4bc-c6a300d08d4f"
   },
   "outputs": [
    {
     "data": {
      "text/plain": [
       "Index(['Id', 'Model', 'Price', 'Age_08_04', 'Mfg_Month', 'Mfg_Year', 'KM',\n",
       "       'Fuel_Type', 'HP', 'Met_Color', 'Automatic', 'cc', 'Doors', 'Cylinders',\n",
       "       'Gears', 'Quarterly_Tax', 'Weight', 'Mfr_Guarantee', 'BOVAG_Guarantee',\n",
       "       'Guarantee_Period', 'ABS', 'Airbag_1', 'Airbag_2', 'Airco',\n",
       "       'Automatic_airco', 'Boardcomputer', 'CD_Player', 'Central_Lock',\n",
       "       'Powered_Windows', 'Power_Steering', 'Radio', 'Mistlamps',\n",
       "       'Sport_Model', 'Backseat_Divider', 'Metallic_Rim', 'Radio_cassette',\n",
       "       'Tow_Bar'],\n",
       "      dtype='object')"
      ]
     },
     "execution_count": 6,
     "metadata": {},
     "output_type": "execute_result"
    }
   ],
   "source": [
    "df_raw.columns"
   ]
  },
  {
   "cell_type": "markdown",
   "metadata": {
    "id": "9aW1jknBOUK-"
   },
   "source": [
    "Ver informacion y tipo de dato de cada columna"
   ]
  },
  {
   "cell_type": "code",
   "execution_count": 7,
   "metadata": {
    "ExecuteTime": {
     "end_time": "2023-10-02T00:44:19.582184300Z",
     "start_time": "2023-10-02T00:44:19.539176900Z"
    },
    "colab": {
     "base_uri": "https://localhost:8080/"
    },
    "id": "W-2SKKgS7PLS",
    "outputId": "f297645d-e2da-4865-baaf-b4c962aa987d"
   },
   "outputs": [
    {
     "name": "stdout",
     "output_type": "stream",
     "text": [
      "<class 'pandas.core.frame.DataFrame'>\n",
      "RangeIndex: 1436 entries, 0 to 1435\n",
      "Data columns (total 37 columns):\n",
      " #   Column            Non-Null Count  Dtype \n",
      "---  ------            --------------  ----- \n",
      " 0   Id                1436 non-null   int64 \n",
      " 1   Model             1436 non-null   object\n",
      " 2   Price             1436 non-null   int64 \n",
      " 3   Age_08_04         1436 non-null   int64 \n",
      " 4   Mfg_Month         1436 non-null   int64 \n",
      " 5   Mfg_Year          1436 non-null   int64 \n",
      " 6   KM                1436 non-null   int64 \n",
      " 7   Fuel_Type         1436 non-null   object\n",
      " 8   HP                1436 non-null   int64 \n",
      " 9   Met_Color         1436 non-null   int64 \n",
      " 10  Automatic         1436 non-null   int64 \n",
      " 11  cc                1436 non-null   int64 \n",
      " 12  Doors             1436 non-null   int64 \n",
      " 13  Cylinders         1436 non-null   int64 \n",
      " 14  Gears             1436 non-null   int64 \n",
      " 15  Quarterly_Tax     1436 non-null   int64 \n",
      " 16  Weight            1436 non-null   int64 \n",
      " 17  Mfr_Guarantee     1436 non-null   int64 \n",
      " 18  BOVAG_Guarantee   1436 non-null   int64 \n",
      " 19  Guarantee_Period  1436 non-null   int64 \n",
      " 20  ABS               1436 non-null   int64 \n",
      " 21  Airbag_1          1436 non-null   int64 \n",
      " 22  Airbag_2          1436 non-null   int64 \n",
      " 23  Airco             1436 non-null   int64 \n",
      " 24  Automatic_airco   1436 non-null   int64 \n",
      " 25  Boardcomputer     1436 non-null   int64 \n",
      " 26  CD_Player         1436 non-null   int64 \n",
      " 27  Central_Lock      1436 non-null   int64 \n",
      " 28  Powered_Windows   1436 non-null   int64 \n",
      " 29  Power_Steering    1436 non-null   int64 \n",
      " 30  Radio             1436 non-null   int64 \n",
      " 31  Mistlamps         1436 non-null   int64 \n",
      " 32  Sport_Model       1436 non-null   int64 \n",
      " 33  Backseat_Divider  1436 non-null   int64 \n",
      " 34  Metallic_Rim      1436 non-null   int64 \n",
      " 35  Radio_cassette    1436 non-null   int64 \n",
      " 36  Tow_Bar           1436 non-null   int64 \n",
      "dtypes: int64(35), object(2)\n",
      "memory usage: 415.2+ KB\n"
     ]
    }
   ],
   "source": [
    "df_raw.info()"
   ]
  },
  {
   "cell_type": "markdown",
   "metadata": {
    "id": "zXCyyMRcO7xV"
   },
   "source": [
    "Otra manera de ver los tipos de datos"
   ]
  },
  {
   "cell_type": "code",
   "execution_count": 8,
   "metadata": {
    "ExecuteTime": {
     "end_time": "2023-10-02T00:44:24.356575400Z",
     "start_time": "2023-10-02T00:44:24.350074Z"
    },
    "colab": {
     "base_uri": "https://localhost:8080/"
    },
    "id": "W0wR4HafO-Tu",
    "outputId": "60152ec5-f2f9-4a6e-b15f-92a77145ee60"
   },
   "outputs": [
    {
     "name": "stdout",
     "output_type": "stream",
     "text": [
      "Id                   int64\n",
      "Model               object\n",
      "Price                int64\n",
      "Age_08_04            int64\n",
      "Mfg_Month            int64\n",
      "Mfg_Year             int64\n",
      "KM                   int64\n",
      "Fuel_Type           object\n",
      "HP                   int64\n",
      "Met_Color            int64\n",
      "Automatic            int64\n",
      "cc                   int64\n",
      "Doors                int64\n",
      "Cylinders            int64\n",
      "Gears                int64\n",
      "Quarterly_Tax        int64\n",
      "Weight               int64\n",
      "Mfr_Guarantee        int64\n",
      "BOVAG_Guarantee      int64\n",
      "Guarantee_Period     int64\n",
      "ABS                  int64\n",
      "Airbag_1             int64\n",
      "Airbag_2             int64\n",
      "Airco                int64\n",
      "Automatic_airco      int64\n",
      "Boardcomputer        int64\n",
      "CD_Player            int64\n",
      "Central_Lock         int64\n",
      "Powered_Windows      int64\n",
      "Power_Steering       int64\n",
      "Radio                int64\n",
      "Mistlamps            int64\n",
      "Sport_Model          int64\n",
      "Backseat_Divider     int64\n",
      "Metallic_Rim         int64\n",
      "Radio_cassette       int64\n",
      "Tow_Bar              int64\n",
      "dtype: object\n"
     ]
    }
   ],
   "source": [
    "data_types = df_raw.dtypes\n",
    "print(data_types)"
   ]
  },
  {
   "cell_type": "markdown",
   "metadata": {
    "id": "IbCiFpJkPCsW"
   },
   "source": [
    "Convertir los nombres de las columnas a minúscula"
   ]
  },
  {
   "cell_type": "code",
   "execution_count": 9,
   "metadata": {
    "ExecuteTime": {
     "end_time": "2023-10-02T00:44:27.239538200Z",
     "start_time": "2023-10-02T00:44:27.226034800Z"
    },
    "id": "hzedtacDPFvV"
   },
   "outputs": [],
   "source": [
    "df_raw.columns = df_raw.columns.str.lower()"
   ]
  },
  {
   "cell_type": "markdown",
   "metadata": {
    "id": "G9qB8Sw9PJrd"
   },
   "source": [
    "Verificación de que los nombres de las columnas fueron modificadas a minuscula"
   ]
  },
  {
   "cell_type": "code",
   "execution_count": 10,
   "metadata": {
    "ExecuteTime": {
     "end_time": "2023-10-02T00:44:29.072481300Z",
     "start_time": "2023-10-02T00:44:29.064479100Z"
    },
    "colab": {
     "base_uri": "https://localhost:8080/"
    },
    "id": "my0AcAgLPJZ9",
    "outputId": "78852927-daad-4be7-acd2-da58d3db8d80"
   },
   "outputs": [
    {
     "data": {
      "text/plain": [
       "Index(['id', 'model', 'price', 'age_08_04', 'mfg_month', 'mfg_year', 'km',\n",
       "       'fuel_type', 'hp', 'met_color', 'automatic', 'cc', 'doors', 'cylinders',\n",
       "       'gears', 'quarterly_tax', 'weight', 'mfr_guarantee', 'bovag_guarantee',\n",
       "       'guarantee_period', 'abs', 'airbag_1', 'airbag_2', 'airco',\n",
       "       'automatic_airco', 'boardcomputer', 'cd_player', 'central_lock',\n",
       "       'powered_windows', 'power_steering', 'radio', 'mistlamps',\n",
       "       'sport_model', 'backseat_divider', 'metallic_rim', 'radio_cassette',\n",
       "       'tow_bar'],\n",
       "      dtype='object')"
      ]
     },
     "execution_count": 10,
     "metadata": {},
     "output_type": "execute_result"
    }
   ],
   "source": [
    "df_raw.columns"
   ]
  },
  {
   "cell_type": "code",
   "execution_count": 11,
   "metadata": {
    "ExecuteTime": {
     "end_time": "2023-10-02T00:44:31.872248200Z",
     "start_time": "2023-10-02T00:44:31.653306900Z"
    },
    "colab": {
     "base_uri": "https://localhost:8080/",
     "height": 1000
    },
    "id": "FpCqZNURPOX9",
    "outputId": "8563cb7f-3600-4317-bbc0-a77c1662e287"
   },
   "outputs": [
    {
     "data": {
      "text/html": [
       "<div>\n",
       "<style scoped>\n",
       "    .dataframe tbody tr th:only-of-type {\n",
       "        vertical-align: middle;\n",
       "    }\n",
       "\n",
       "    .dataframe tbody tr th {\n",
       "        vertical-align: top;\n",
       "    }\n",
       "\n",
       "    .dataframe thead th {\n",
       "        text-align: right;\n",
       "    }\n",
       "</style>\n",
       "<table border=\"1\" class=\"dataframe\">\n",
       "  <thead>\n",
       "    <tr style=\"text-align: right;\">\n",
       "      <th></th>\n",
       "      <th>count</th>\n",
       "      <th>unique</th>\n",
       "      <th>top</th>\n",
       "      <th>freq</th>\n",
       "      <th>mean</th>\n",
       "      <th>std</th>\n",
       "      <th>min</th>\n",
       "      <th>25%</th>\n",
       "      <th>50%</th>\n",
       "      <th>75%</th>\n",
       "      <th>max</th>\n",
       "    </tr>\n",
       "  </thead>\n",
       "  <tbody>\n",
       "    <tr>\n",
       "      <th>id</th>\n",
       "      <td>1436.0</td>\n",
       "      <td>NaN</td>\n",
       "      <td>NaN</td>\n",
       "      <td>NaN</td>\n",
       "      <td>721.555014</td>\n",
       "      <td>416.47689</td>\n",
       "      <td>1.0</td>\n",
       "      <td>361.75</td>\n",
       "      <td>721.5</td>\n",
       "      <td>1081.25</td>\n",
       "      <td>1442.0</td>\n",
       "    </tr>\n",
       "    <tr>\n",
       "      <th>model</th>\n",
       "      <td>1436</td>\n",
       "      <td>372</td>\n",
       "      <td>TOYOTA Corolla 1.6 16V HATCHB LINEA TERRA 2/3-...</td>\n",
       "      <td>107</td>\n",
       "      <td>NaN</td>\n",
       "      <td>NaN</td>\n",
       "      <td>NaN</td>\n",
       "      <td>NaN</td>\n",
       "      <td>NaN</td>\n",
       "      <td>NaN</td>\n",
       "      <td>NaN</td>\n",
       "    </tr>\n",
       "    <tr>\n",
       "      <th>price</th>\n",
       "      <td>1436.0</td>\n",
       "      <td>NaN</td>\n",
       "      <td>NaN</td>\n",
       "      <td>NaN</td>\n",
       "      <td>10730.824513</td>\n",
       "      <td>3626.964585</td>\n",
       "      <td>4350.0</td>\n",
       "      <td>8450.0</td>\n",
       "      <td>9900.0</td>\n",
       "      <td>11950.0</td>\n",
       "      <td>32500.0</td>\n",
       "    </tr>\n",
       "    <tr>\n",
       "      <th>age_08_04</th>\n",
       "      <td>1436.0</td>\n",
       "      <td>NaN</td>\n",
       "      <td>NaN</td>\n",
       "      <td>NaN</td>\n",
       "      <td>55.947075</td>\n",
       "      <td>18.599988</td>\n",
       "      <td>1.0</td>\n",
       "      <td>44.0</td>\n",
       "      <td>61.0</td>\n",
       "      <td>70.0</td>\n",
       "      <td>80.0</td>\n",
       "    </tr>\n",
       "    <tr>\n",
       "      <th>mfg_month</th>\n",
       "      <td>1436.0</td>\n",
       "      <td>NaN</td>\n",
       "      <td>NaN</td>\n",
       "      <td>NaN</td>\n",
       "      <td>5.548747</td>\n",
       "      <td>3.354085</td>\n",
       "      <td>1.0</td>\n",
       "      <td>3.0</td>\n",
       "      <td>5.0</td>\n",
       "      <td>8.0</td>\n",
       "      <td>12.0</td>\n",
       "    </tr>\n",
       "    <tr>\n",
       "      <th>mfg_year</th>\n",
       "      <td>1436.0</td>\n",
       "      <td>NaN</td>\n",
       "      <td>NaN</td>\n",
       "      <td>NaN</td>\n",
       "      <td>1999.625348</td>\n",
       "      <td>1.540722</td>\n",
       "      <td>1998.0</td>\n",
       "      <td>1998.0</td>\n",
       "      <td>1999.0</td>\n",
       "      <td>2001.0</td>\n",
       "      <td>2004.0</td>\n",
       "    </tr>\n",
       "    <tr>\n",
       "      <th>km</th>\n",
       "      <td>1436.0</td>\n",
       "      <td>NaN</td>\n",
       "      <td>NaN</td>\n",
       "      <td>NaN</td>\n",
       "      <td>68533.259749</td>\n",
       "      <td>37506.448872</td>\n",
       "      <td>1.0</td>\n",
       "      <td>43000.0</td>\n",
       "      <td>63389.5</td>\n",
       "      <td>87020.75</td>\n",
       "      <td>243000.0</td>\n",
       "    </tr>\n",
       "    <tr>\n",
       "      <th>fuel_type</th>\n",
       "      <td>1436</td>\n",
       "      <td>3</td>\n",
       "      <td>Petrol</td>\n",
       "      <td>1264</td>\n",
       "      <td>NaN</td>\n",
       "      <td>NaN</td>\n",
       "      <td>NaN</td>\n",
       "      <td>NaN</td>\n",
       "      <td>NaN</td>\n",
       "      <td>NaN</td>\n",
       "      <td>NaN</td>\n",
       "    </tr>\n",
       "    <tr>\n",
       "      <th>hp</th>\n",
       "      <td>1436.0</td>\n",
       "      <td>NaN</td>\n",
       "      <td>NaN</td>\n",
       "      <td>NaN</td>\n",
       "      <td>101.502089</td>\n",
       "      <td>14.98108</td>\n",
       "      <td>69.0</td>\n",
       "      <td>90.0</td>\n",
       "      <td>110.0</td>\n",
       "      <td>110.0</td>\n",
       "      <td>192.0</td>\n",
       "    </tr>\n",
       "    <tr>\n",
       "      <th>met_color</th>\n",
       "      <td>1436.0</td>\n",
       "      <td>NaN</td>\n",
       "      <td>NaN</td>\n",
       "      <td>NaN</td>\n",
       "      <td>0.674791</td>\n",
       "      <td>0.468616</td>\n",
       "      <td>0.0</td>\n",
       "      <td>0.0</td>\n",
       "      <td>1.0</td>\n",
       "      <td>1.0</td>\n",
       "      <td>1.0</td>\n",
       "    </tr>\n",
       "    <tr>\n",
       "      <th>automatic</th>\n",
       "      <td>1436.0</td>\n",
       "      <td>NaN</td>\n",
       "      <td>NaN</td>\n",
       "      <td>NaN</td>\n",
       "      <td>0.05571</td>\n",
       "      <td>0.229441</td>\n",
       "      <td>0.0</td>\n",
       "      <td>0.0</td>\n",
       "      <td>0.0</td>\n",
       "      <td>0.0</td>\n",
       "      <td>1.0</td>\n",
       "    </tr>\n",
       "    <tr>\n",
       "      <th>cc</th>\n",
       "      <td>1436.0</td>\n",
       "      <td>NaN</td>\n",
       "      <td>NaN</td>\n",
       "      <td>NaN</td>\n",
       "      <td>1576.85585</td>\n",
       "      <td>424.38677</td>\n",
       "      <td>1300.0</td>\n",
       "      <td>1400.0</td>\n",
       "      <td>1600.0</td>\n",
       "      <td>1600.0</td>\n",
       "      <td>16000.0</td>\n",
       "    </tr>\n",
       "    <tr>\n",
       "      <th>doors</th>\n",
       "      <td>1436.0</td>\n",
       "      <td>NaN</td>\n",
       "      <td>NaN</td>\n",
       "      <td>NaN</td>\n",
       "      <td>4.033426</td>\n",
       "      <td>0.952677</td>\n",
       "      <td>2.0</td>\n",
       "      <td>3.0</td>\n",
       "      <td>4.0</td>\n",
       "      <td>5.0</td>\n",
       "      <td>5.0</td>\n",
       "    </tr>\n",
       "    <tr>\n",
       "      <th>cylinders</th>\n",
       "      <td>1436.0</td>\n",
       "      <td>NaN</td>\n",
       "      <td>NaN</td>\n",
       "      <td>NaN</td>\n",
       "      <td>4.0</td>\n",
       "      <td>0.0</td>\n",
       "      <td>4.0</td>\n",
       "      <td>4.0</td>\n",
       "      <td>4.0</td>\n",
       "      <td>4.0</td>\n",
       "      <td>4.0</td>\n",
       "    </tr>\n",
       "    <tr>\n",
       "      <th>gears</th>\n",
       "      <td>1436.0</td>\n",
       "      <td>NaN</td>\n",
       "      <td>NaN</td>\n",
       "      <td>NaN</td>\n",
       "      <td>5.026462</td>\n",
       "      <td>0.18851</td>\n",
       "      <td>3.0</td>\n",
       "      <td>5.0</td>\n",
       "      <td>5.0</td>\n",
       "      <td>5.0</td>\n",
       "      <td>6.0</td>\n",
       "    </tr>\n",
       "    <tr>\n",
       "      <th>quarterly_tax</th>\n",
       "      <td>1436.0</td>\n",
       "      <td>NaN</td>\n",
       "      <td>NaN</td>\n",
       "      <td>NaN</td>\n",
       "      <td>87.122563</td>\n",
       "      <td>41.128611</td>\n",
       "      <td>19.0</td>\n",
       "      <td>69.0</td>\n",
       "      <td>85.0</td>\n",
       "      <td>85.0</td>\n",
       "      <td>283.0</td>\n",
       "    </tr>\n",
       "    <tr>\n",
       "      <th>weight</th>\n",
       "      <td>1436.0</td>\n",
       "      <td>NaN</td>\n",
       "      <td>NaN</td>\n",
       "      <td>NaN</td>\n",
       "      <td>1072.45961</td>\n",
       "      <td>52.64112</td>\n",
       "      <td>1000.0</td>\n",
       "      <td>1040.0</td>\n",
       "      <td>1070.0</td>\n",
       "      <td>1085.0</td>\n",
       "      <td>1615.0</td>\n",
       "    </tr>\n",
       "    <tr>\n",
       "      <th>mfr_guarantee</th>\n",
       "      <td>1436.0</td>\n",
       "      <td>NaN</td>\n",
       "      <td>NaN</td>\n",
       "      <td>NaN</td>\n",
       "      <td>0.409471</td>\n",
       "      <td>0.491907</td>\n",
       "      <td>0.0</td>\n",
       "      <td>0.0</td>\n",
       "      <td>0.0</td>\n",
       "      <td>1.0</td>\n",
       "      <td>1.0</td>\n",
       "    </tr>\n",
       "    <tr>\n",
       "      <th>bovag_guarantee</th>\n",
       "      <td>1436.0</td>\n",
       "      <td>NaN</td>\n",
       "      <td>NaN</td>\n",
       "      <td>NaN</td>\n",
       "      <td>0.895543</td>\n",
       "      <td>0.305959</td>\n",
       "      <td>0.0</td>\n",
       "      <td>1.0</td>\n",
       "      <td>1.0</td>\n",
       "      <td>1.0</td>\n",
       "      <td>1.0</td>\n",
       "    </tr>\n",
       "    <tr>\n",
       "      <th>guarantee_period</th>\n",
       "      <td>1436.0</td>\n",
       "      <td>NaN</td>\n",
       "      <td>NaN</td>\n",
       "      <td>NaN</td>\n",
       "      <td>3.81546</td>\n",
       "      <td>3.011025</td>\n",
       "      <td>3.0</td>\n",
       "      <td>3.0</td>\n",
       "      <td>3.0</td>\n",
       "      <td>3.0</td>\n",
       "      <td>36.0</td>\n",
       "    </tr>\n",
       "    <tr>\n",
       "      <th>abs</th>\n",
       "      <td>1436.0</td>\n",
       "      <td>NaN</td>\n",
       "      <td>NaN</td>\n",
       "      <td>NaN</td>\n",
       "      <td>0.81337</td>\n",
       "      <td>0.38975</td>\n",
       "      <td>0.0</td>\n",
       "      <td>1.0</td>\n",
       "      <td>1.0</td>\n",
       "      <td>1.0</td>\n",
       "      <td>1.0</td>\n",
       "    </tr>\n",
       "    <tr>\n",
       "      <th>airbag_1</th>\n",
       "      <td>1436.0</td>\n",
       "      <td>NaN</td>\n",
       "      <td>NaN</td>\n",
       "      <td>NaN</td>\n",
       "      <td>0.970752</td>\n",
       "      <td>0.168559</td>\n",
       "      <td>0.0</td>\n",
       "      <td>1.0</td>\n",
       "      <td>1.0</td>\n",
       "      <td>1.0</td>\n",
       "      <td>1.0</td>\n",
       "    </tr>\n",
       "    <tr>\n",
       "      <th>airbag_2</th>\n",
       "      <td>1436.0</td>\n",
       "      <td>NaN</td>\n",
       "      <td>NaN</td>\n",
       "      <td>NaN</td>\n",
       "      <td>0.722841</td>\n",
       "      <td>0.447751</td>\n",
       "      <td>0.0</td>\n",
       "      <td>0.0</td>\n",
       "      <td>1.0</td>\n",
       "      <td>1.0</td>\n",
       "      <td>1.0</td>\n",
       "    </tr>\n",
       "    <tr>\n",
       "      <th>airco</th>\n",
       "      <td>1436.0</td>\n",
       "      <td>NaN</td>\n",
       "      <td>NaN</td>\n",
       "      <td>NaN</td>\n",
       "      <td>0.508357</td>\n",
       "      <td>0.500104</td>\n",
       "      <td>0.0</td>\n",
       "      <td>0.0</td>\n",
       "      <td>1.0</td>\n",
       "      <td>1.0</td>\n",
       "      <td>1.0</td>\n",
       "    </tr>\n",
       "    <tr>\n",
       "      <th>automatic_airco</th>\n",
       "      <td>1436.0</td>\n",
       "      <td>NaN</td>\n",
       "      <td>NaN</td>\n",
       "      <td>NaN</td>\n",
       "      <td>0.056407</td>\n",
       "      <td>0.230786</td>\n",
       "      <td>0.0</td>\n",
       "      <td>0.0</td>\n",
       "      <td>0.0</td>\n",
       "      <td>0.0</td>\n",
       "      <td>1.0</td>\n",
       "    </tr>\n",
       "    <tr>\n",
       "      <th>boardcomputer</th>\n",
       "      <td>1436.0</td>\n",
       "      <td>NaN</td>\n",
       "      <td>NaN</td>\n",
       "      <td>NaN</td>\n",
       "      <td>0.294568</td>\n",
       "      <td>0.456007</td>\n",
       "      <td>0.0</td>\n",
       "      <td>0.0</td>\n",
       "      <td>0.0</td>\n",
       "      <td>1.0</td>\n",
       "      <td>1.0</td>\n",
       "    </tr>\n",
       "    <tr>\n",
       "      <th>cd_player</th>\n",
       "      <td>1436.0</td>\n",
       "      <td>NaN</td>\n",
       "      <td>NaN</td>\n",
       "      <td>NaN</td>\n",
       "      <td>0.218663</td>\n",
       "      <td>0.413483</td>\n",
       "      <td>0.0</td>\n",
       "      <td>0.0</td>\n",
       "      <td>0.0</td>\n",
       "      <td>0.0</td>\n",
       "      <td>1.0</td>\n",
       "    </tr>\n",
       "    <tr>\n",
       "      <th>central_lock</th>\n",
       "      <td>1436.0</td>\n",
       "      <td>NaN</td>\n",
       "      <td>NaN</td>\n",
       "      <td>NaN</td>\n",
       "      <td>0.580084</td>\n",
       "      <td>0.493717</td>\n",
       "      <td>0.0</td>\n",
       "      <td>0.0</td>\n",
       "      <td>1.0</td>\n",
       "      <td>1.0</td>\n",
       "      <td>1.0</td>\n",
       "    </tr>\n",
       "    <tr>\n",
       "      <th>powered_windows</th>\n",
       "      <td>1436.0</td>\n",
       "      <td>NaN</td>\n",
       "      <td>NaN</td>\n",
       "      <td>NaN</td>\n",
       "      <td>0.561978</td>\n",
       "      <td>0.496317</td>\n",
       "      <td>0.0</td>\n",
       "      <td>0.0</td>\n",
       "      <td>1.0</td>\n",
       "      <td>1.0</td>\n",
       "      <td>1.0</td>\n",
       "    </tr>\n",
       "    <tr>\n",
       "      <th>power_steering</th>\n",
       "      <td>1436.0</td>\n",
       "      <td>NaN</td>\n",
       "      <td>NaN</td>\n",
       "      <td>NaN</td>\n",
       "      <td>0.977716</td>\n",
       "      <td>0.147657</td>\n",
       "      <td>0.0</td>\n",
       "      <td>1.0</td>\n",
       "      <td>1.0</td>\n",
       "      <td>1.0</td>\n",
       "      <td>1.0</td>\n",
       "    </tr>\n",
       "    <tr>\n",
       "      <th>radio</th>\n",
       "      <td>1436.0</td>\n",
       "      <td>NaN</td>\n",
       "      <td>NaN</td>\n",
       "      <td>NaN</td>\n",
       "      <td>0.14624</td>\n",
       "      <td>0.353469</td>\n",
       "      <td>0.0</td>\n",
       "      <td>0.0</td>\n",
       "      <td>0.0</td>\n",
       "      <td>0.0</td>\n",
       "      <td>1.0</td>\n",
       "    </tr>\n",
       "    <tr>\n",
       "      <th>mistlamps</th>\n",
       "      <td>1436.0</td>\n",
       "      <td>NaN</td>\n",
       "      <td>NaN</td>\n",
       "      <td>NaN</td>\n",
       "      <td>0.256964</td>\n",
       "      <td>0.437111</td>\n",
       "      <td>0.0</td>\n",
       "      <td>0.0</td>\n",
       "      <td>0.0</td>\n",
       "      <td>1.0</td>\n",
       "      <td>1.0</td>\n",
       "    </tr>\n",
       "    <tr>\n",
       "      <th>sport_model</th>\n",
       "      <td>1436.0</td>\n",
       "      <td>NaN</td>\n",
       "      <td>NaN</td>\n",
       "      <td>NaN</td>\n",
       "      <td>0.300139</td>\n",
       "      <td>0.458478</td>\n",
       "      <td>0.0</td>\n",
       "      <td>0.0</td>\n",
       "      <td>0.0</td>\n",
       "      <td>1.0</td>\n",
       "      <td>1.0</td>\n",
       "    </tr>\n",
       "    <tr>\n",
       "      <th>backseat_divider</th>\n",
       "      <td>1436.0</td>\n",
       "      <td>NaN</td>\n",
       "      <td>NaN</td>\n",
       "      <td>NaN</td>\n",
       "      <td>0.770195</td>\n",
       "      <td>0.420854</td>\n",
       "      <td>0.0</td>\n",
       "      <td>1.0</td>\n",
       "      <td>1.0</td>\n",
       "      <td>1.0</td>\n",
       "      <td>1.0</td>\n",
       "    </tr>\n",
       "    <tr>\n",
       "      <th>metallic_rim</th>\n",
       "      <td>1436.0</td>\n",
       "      <td>NaN</td>\n",
       "      <td>NaN</td>\n",
       "      <td>NaN</td>\n",
       "      <td>0.204735</td>\n",
       "      <td>0.403649</td>\n",
       "      <td>0.0</td>\n",
       "      <td>0.0</td>\n",
       "      <td>0.0</td>\n",
       "      <td>0.0</td>\n",
       "      <td>1.0</td>\n",
       "    </tr>\n",
       "    <tr>\n",
       "      <th>radio_cassette</th>\n",
       "      <td>1436.0</td>\n",
       "      <td>NaN</td>\n",
       "      <td>NaN</td>\n",
       "      <td>NaN</td>\n",
       "      <td>0.145543</td>\n",
       "      <td>0.35277</td>\n",
       "      <td>0.0</td>\n",
       "      <td>0.0</td>\n",
       "      <td>0.0</td>\n",
       "      <td>0.0</td>\n",
       "      <td>1.0</td>\n",
       "    </tr>\n",
       "    <tr>\n",
       "      <th>tow_bar</th>\n",
       "      <td>1436.0</td>\n",
       "      <td>NaN</td>\n",
       "      <td>NaN</td>\n",
       "      <td>NaN</td>\n",
       "      <td>0.277855</td>\n",
       "      <td>0.448098</td>\n",
       "      <td>0.0</td>\n",
       "      <td>0.0</td>\n",
       "      <td>0.0</td>\n",
       "      <td>1.0</td>\n",
       "      <td>1.0</td>\n",
       "    </tr>\n",
       "  </tbody>\n",
       "</table>\n",
       "</div>"
      ],
      "text/plain": [
       "                   count unique  \\\n",
       "id                1436.0    NaN   \n",
       "model               1436    372   \n",
       "price             1436.0    NaN   \n",
       "age_08_04         1436.0    NaN   \n",
       "mfg_month         1436.0    NaN   \n",
       "mfg_year          1436.0    NaN   \n",
       "km                1436.0    NaN   \n",
       "fuel_type           1436      3   \n",
       "hp                1436.0    NaN   \n",
       "met_color         1436.0    NaN   \n",
       "automatic         1436.0    NaN   \n",
       "cc                1436.0    NaN   \n",
       "doors             1436.0    NaN   \n",
       "cylinders         1436.0    NaN   \n",
       "gears             1436.0    NaN   \n",
       "quarterly_tax     1436.0    NaN   \n",
       "weight            1436.0    NaN   \n",
       "mfr_guarantee     1436.0    NaN   \n",
       "bovag_guarantee   1436.0    NaN   \n",
       "guarantee_period  1436.0    NaN   \n",
       "abs               1436.0    NaN   \n",
       "airbag_1          1436.0    NaN   \n",
       "airbag_2          1436.0    NaN   \n",
       "airco             1436.0    NaN   \n",
       "automatic_airco   1436.0    NaN   \n",
       "boardcomputer     1436.0    NaN   \n",
       "cd_player         1436.0    NaN   \n",
       "central_lock      1436.0    NaN   \n",
       "powered_windows   1436.0    NaN   \n",
       "power_steering    1436.0    NaN   \n",
       "radio             1436.0    NaN   \n",
       "mistlamps         1436.0    NaN   \n",
       "sport_model       1436.0    NaN   \n",
       "backseat_divider  1436.0    NaN   \n",
       "metallic_rim      1436.0    NaN   \n",
       "radio_cassette    1436.0    NaN   \n",
       "tow_bar           1436.0    NaN   \n",
       "\n",
       "                                                                top  freq  \\\n",
       "id                                                              NaN   NaN   \n",
       "model             TOYOTA Corolla 1.6 16V HATCHB LINEA TERRA 2/3-...   107   \n",
       "price                                                           NaN   NaN   \n",
       "age_08_04                                                       NaN   NaN   \n",
       "mfg_month                                                       NaN   NaN   \n",
       "mfg_year                                                        NaN   NaN   \n",
       "km                                                              NaN   NaN   \n",
       "fuel_type                                                    Petrol  1264   \n",
       "hp                                                              NaN   NaN   \n",
       "met_color                                                       NaN   NaN   \n",
       "automatic                                                       NaN   NaN   \n",
       "cc                                                              NaN   NaN   \n",
       "doors                                                           NaN   NaN   \n",
       "cylinders                                                       NaN   NaN   \n",
       "gears                                                           NaN   NaN   \n",
       "quarterly_tax                                                   NaN   NaN   \n",
       "weight                                                          NaN   NaN   \n",
       "mfr_guarantee                                                   NaN   NaN   \n",
       "bovag_guarantee                                                 NaN   NaN   \n",
       "guarantee_period                                                NaN   NaN   \n",
       "abs                                                             NaN   NaN   \n",
       "airbag_1                                                        NaN   NaN   \n",
       "airbag_2                                                        NaN   NaN   \n",
       "airco                                                           NaN   NaN   \n",
       "automatic_airco                                                 NaN   NaN   \n",
       "boardcomputer                                                   NaN   NaN   \n",
       "cd_player                                                       NaN   NaN   \n",
       "central_lock                                                    NaN   NaN   \n",
       "powered_windows                                                 NaN   NaN   \n",
       "power_steering                                                  NaN   NaN   \n",
       "radio                                                           NaN   NaN   \n",
       "mistlamps                                                       NaN   NaN   \n",
       "sport_model                                                     NaN   NaN   \n",
       "backseat_divider                                                NaN   NaN   \n",
       "metallic_rim                                                    NaN   NaN   \n",
       "radio_cassette                                                  NaN   NaN   \n",
       "tow_bar                                                         NaN   NaN   \n",
       "\n",
       "                          mean           std     min      25%      50%  \\\n",
       "id                  721.555014     416.47689     1.0   361.75    721.5   \n",
       "model                      NaN           NaN     NaN      NaN      NaN   \n",
       "price             10730.824513   3626.964585  4350.0   8450.0   9900.0   \n",
       "age_08_04            55.947075     18.599988     1.0     44.0     61.0   \n",
       "mfg_month             5.548747      3.354085     1.0      3.0      5.0   \n",
       "mfg_year           1999.625348      1.540722  1998.0   1998.0   1999.0   \n",
       "km                68533.259749  37506.448872     1.0  43000.0  63389.5   \n",
       "fuel_type                  NaN           NaN     NaN      NaN      NaN   \n",
       "hp                  101.502089      14.98108    69.0     90.0    110.0   \n",
       "met_color             0.674791      0.468616     0.0      0.0      1.0   \n",
       "automatic              0.05571      0.229441     0.0      0.0      0.0   \n",
       "cc                  1576.85585     424.38677  1300.0   1400.0   1600.0   \n",
       "doors                 4.033426      0.952677     2.0      3.0      4.0   \n",
       "cylinders                  4.0           0.0     4.0      4.0      4.0   \n",
       "gears                 5.026462       0.18851     3.0      5.0      5.0   \n",
       "quarterly_tax        87.122563     41.128611    19.0     69.0     85.0   \n",
       "weight              1072.45961      52.64112  1000.0   1040.0   1070.0   \n",
       "mfr_guarantee         0.409471      0.491907     0.0      0.0      0.0   \n",
       "bovag_guarantee       0.895543      0.305959     0.0      1.0      1.0   \n",
       "guarantee_period       3.81546      3.011025     3.0      3.0      3.0   \n",
       "abs                    0.81337       0.38975     0.0      1.0      1.0   \n",
       "airbag_1              0.970752      0.168559     0.0      1.0      1.0   \n",
       "airbag_2              0.722841      0.447751     0.0      0.0      1.0   \n",
       "airco                 0.508357      0.500104     0.0      0.0      1.0   \n",
       "automatic_airco       0.056407      0.230786     0.0      0.0      0.0   \n",
       "boardcomputer         0.294568      0.456007     0.0      0.0      0.0   \n",
       "cd_player             0.218663      0.413483     0.0      0.0      0.0   \n",
       "central_lock          0.580084      0.493717     0.0      0.0      1.0   \n",
       "powered_windows       0.561978      0.496317     0.0      0.0      1.0   \n",
       "power_steering        0.977716      0.147657     0.0      1.0      1.0   \n",
       "radio                  0.14624      0.353469     0.0      0.0      0.0   \n",
       "mistlamps             0.256964      0.437111     0.0      0.0      0.0   \n",
       "sport_model           0.300139      0.458478     0.0      0.0      0.0   \n",
       "backseat_divider      0.770195      0.420854     0.0      1.0      1.0   \n",
       "metallic_rim          0.204735      0.403649     0.0      0.0      0.0   \n",
       "radio_cassette        0.145543       0.35277     0.0      0.0      0.0   \n",
       "tow_bar               0.277855      0.448098     0.0      0.0      0.0   \n",
       "\n",
       "                       75%       max  \n",
       "id                 1081.25    1442.0  \n",
       "model                  NaN       NaN  \n",
       "price              11950.0   32500.0  \n",
       "age_08_04             70.0      80.0  \n",
       "mfg_month              8.0      12.0  \n",
       "mfg_year            2001.0    2004.0  \n",
       "km                87020.75  243000.0  \n",
       "fuel_type              NaN       NaN  \n",
       "hp                   110.0     192.0  \n",
       "met_color              1.0       1.0  \n",
       "automatic              0.0       1.0  \n",
       "cc                  1600.0   16000.0  \n",
       "doors                  5.0       5.0  \n",
       "cylinders              4.0       4.0  \n",
       "gears                  5.0       6.0  \n",
       "quarterly_tax         85.0     283.0  \n",
       "weight              1085.0    1615.0  \n",
       "mfr_guarantee          1.0       1.0  \n",
       "bovag_guarantee        1.0       1.0  \n",
       "guarantee_period       3.0      36.0  \n",
       "abs                    1.0       1.0  \n",
       "airbag_1               1.0       1.0  \n",
       "airbag_2               1.0       1.0  \n",
       "airco                  1.0       1.0  \n",
       "automatic_airco        0.0       1.0  \n",
       "boardcomputer          1.0       1.0  \n",
       "cd_player              0.0       1.0  \n",
       "central_lock           1.0       1.0  \n",
       "powered_windows        1.0       1.0  \n",
       "power_steering         1.0       1.0  \n",
       "radio                  0.0       1.0  \n",
       "mistlamps              1.0       1.0  \n",
       "sport_model            1.0       1.0  \n",
       "backseat_divider       1.0       1.0  \n",
       "metallic_rim           0.0       1.0  \n",
       "radio_cassette         0.0       1.0  \n",
       "tow_bar                1.0       1.0  "
      ]
     },
     "execution_count": 11,
     "metadata": {},
     "output_type": "execute_result"
    }
   ],
   "source": [
    "df_raw.describe(include='all').T"
   ]
  },
  {
   "cell_type": "markdown",
   "metadata": {
    "id": "VbIh2EU6PS1d"
   },
   "source": [
    "Eliminar las primeras columnas innecesarias"
   ]
  },
  {
   "cell_type": "code",
   "execution_count": 12,
   "metadata": {
    "ExecuteTime": {
     "end_time": "2023-10-02T00:44:38.392841400Z",
     "start_time": "2023-10-02T00:44:38.370337800Z"
    },
    "id": "zlSkaxIXPZMl"
   },
   "outputs": [],
   "source": [
    "columns_to_delete = ['id', 'model', 'cylinders'] #, 'mfg_month', 'mfg_year']\n",
    "df = df_raw.drop(columns=columns_to_delete, axis=1)\n",
    "df = pd.DataFrame(df)"
   ]
  },
  {
   "cell_type": "code",
   "execution_count": 13,
   "metadata": {
    "ExecuteTime": {
     "end_time": "2023-10-02T00:44:40.066788200Z",
     "start_time": "2023-10-02T00:44:40.049284300Z"
    },
    "colab": {
     "base_uri": "https://localhost:8080/"
    },
    "id": "18kY7C4tQKnt",
    "outputId": "d9eb37b5-7fc8-4339-bb75-43f960c32df3"
   },
   "outputs": [
    {
     "name": "stdout",
     "output_type": "stream",
     "text": [
      "<class 'pandas.core.frame.DataFrame'>\n",
      "RangeIndex: 1436 entries, 0 to 1435\n",
      "Data columns (total 34 columns):\n",
      " #   Column            Non-Null Count  Dtype \n",
      "---  ------            --------------  ----- \n",
      " 0   price             1436 non-null   int64 \n",
      " 1   age_08_04         1436 non-null   int64 \n",
      " 2   mfg_month         1436 non-null   int64 \n",
      " 3   mfg_year          1436 non-null   int64 \n",
      " 4   km                1436 non-null   int64 \n",
      " 5   fuel_type         1436 non-null   object\n",
      " 6   hp                1436 non-null   int64 \n",
      " 7   met_color         1436 non-null   int64 \n",
      " 8   automatic         1436 non-null   int64 \n",
      " 9   cc                1436 non-null   int64 \n",
      " 10  doors             1436 non-null   int64 \n",
      " 11  gears             1436 non-null   int64 \n",
      " 12  quarterly_tax     1436 non-null   int64 \n",
      " 13  weight            1436 non-null   int64 \n",
      " 14  mfr_guarantee     1436 non-null   int64 \n",
      " 15  bovag_guarantee   1436 non-null   int64 \n",
      " 16  guarantee_period  1436 non-null   int64 \n",
      " 17  abs               1436 non-null   int64 \n",
      " 18  airbag_1          1436 non-null   int64 \n",
      " 19  airbag_2          1436 non-null   int64 \n",
      " 20  airco             1436 non-null   int64 \n",
      " 21  automatic_airco   1436 non-null   int64 \n",
      " 22  boardcomputer     1436 non-null   int64 \n",
      " 23  cd_player         1436 non-null   int64 \n",
      " 24  central_lock      1436 non-null   int64 \n",
      " 25  powered_windows   1436 non-null   int64 \n",
      " 26  power_steering    1436 non-null   int64 \n",
      " 27  radio             1436 non-null   int64 \n",
      " 28  mistlamps         1436 non-null   int64 \n",
      " 29  sport_model       1436 non-null   int64 \n",
      " 30  backseat_divider  1436 non-null   int64 \n",
      " 31  metallic_rim      1436 non-null   int64 \n",
      " 32  radio_cassette    1436 non-null   int64 \n",
      " 33  tow_bar           1436 non-null   int64 \n",
      "dtypes: int64(33), object(1)\n",
      "memory usage: 381.6+ KB\n"
     ]
    }
   ],
   "source": [
    "df.info()"
   ]
  },
  {
   "cell_type": "code",
   "execution_count": 14,
   "metadata": {
    "ExecuteTime": {
     "end_time": "2023-10-02T00:44:42.180985Z",
     "start_time": "2023-10-02T00:44:42.121476Z"
    },
    "colab": {
     "base_uri": "https://localhost:8080/",
     "height": 1000
    },
    "id": "eoR1meRKQQu1",
    "outputId": "bdd3d4d0-a167-4cd4-fb26-1b710f9d7364"
   },
   "outputs": [
    {
     "data": {
      "text/html": [
       "<div>\n",
       "<style scoped>\n",
       "    .dataframe tbody tr th:only-of-type {\n",
       "        vertical-align: middle;\n",
       "    }\n",
       "\n",
       "    .dataframe tbody tr th {\n",
       "        vertical-align: top;\n",
       "    }\n",
       "\n",
       "    .dataframe thead th {\n",
       "        text-align: right;\n",
       "    }\n",
       "</style>\n",
       "<table border=\"1\" class=\"dataframe\">\n",
       "  <thead>\n",
       "    <tr style=\"text-align: right;\">\n",
       "      <th></th>\n",
       "      <th>count</th>\n",
       "      <th>unique</th>\n",
       "      <th>top</th>\n",
       "      <th>freq</th>\n",
       "      <th>mean</th>\n",
       "      <th>std</th>\n",
       "      <th>min</th>\n",
       "      <th>25%</th>\n",
       "      <th>50%</th>\n",
       "      <th>75%</th>\n",
       "      <th>max</th>\n",
       "    </tr>\n",
       "  </thead>\n",
       "  <tbody>\n",
       "    <tr>\n",
       "      <th>price</th>\n",
       "      <td>1436.0</td>\n",
       "      <td>NaN</td>\n",
       "      <td>NaN</td>\n",
       "      <td>NaN</td>\n",
       "      <td>10730.824513</td>\n",
       "      <td>3626.964585</td>\n",
       "      <td>4350.0</td>\n",
       "      <td>8450.0</td>\n",
       "      <td>9900.0</td>\n",
       "      <td>11950.0</td>\n",
       "      <td>32500.0</td>\n",
       "    </tr>\n",
       "    <tr>\n",
       "      <th>age_08_04</th>\n",
       "      <td>1436.0</td>\n",
       "      <td>NaN</td>\n",
       "      <td>NaN</td>\n",
       "      <td>NaN</td>\n",
       "      <td>55.947075</td>\n",
       "      <td>18.599988</td>\n",
       "      <td>1.0</td>\n",
       "      <td>44.0</td>\n",
       "      <td>61.0</td>\n",
       "      <td>70.0</td>\n",
       "      <td>80.0</td>\n",
       "    </tr>\n",
       "    <tr>\n",
       "      <th>mfg_month</th>\n",
       "      <td>1436.0</td>\n",
       "      <td>NaN</td>\n",
       "      <td>NaN</td>\n",
       "      <td>NaN</td>\n",
       "      <td>5.548747</td>\n",
       "      <td>3.354085</td>\n",
       "      <td>1.0</td>\n",
       "      <td>3.0</td>\n",
       "      <td>5.0</td>\n",
       "      <td>8.0</td>\n",
       "      <td>12.0</td>\n",
       "    </tr>\n",
       "    <tr>\n",
       "      <th>mfg_year</th>\n",
       "      <td>1436.0</td>\n",
       "      <td>NaN</td>\n",
       "      <td>NaN</td>\n",
       "      <td>NaN</td>\n",
       "      <td>1999.625348</td>\n",
       "      <td>1.540722</td>\n",
       "      <td>1998.0</td>\n",
       "      <td>1998.0</td>\n",
       "      <td>1999.0</td>\n",
       "      <td>2001.0</td>\n",
       "      <td>2004.0</td>\n",
       "    </tr>\n",
       "    <tr>\n",
       "      <th>km</th>\n",
       "      <td>1436.0</td>\n",
       "      <td>NaN</td>\n",
       "      <td>NaN</td>\n",
       "      <td>NaN</td>\n",
       "      <td>68533.259749</td>\n",
       "      <td>37506.448872</td>\n",
       "      <td>1.0</td>\n",
       "      <td>43000.0</td>\n",
       "      <td>63389.5</td>\n",
       "      <td>87020.75</td>\n",
       "      <td>243000.0</td>\n",
       "    </tr>\n",
       "    <tr>\n",
       "      <th>fuel_type</th>\n",
       "      <td>1436</td>\n",
       "      <td>3</td>\n",
       "      <td>Petrol</td>\n",
       "      <td>1264</td>\n",
       "      <td>NaN</td>\n",
       "      <td>NaN</td>\n",
       "      <td>NaN</td>\n",
       "      <td>NaN</td>\n",
       "      <td>NaN</td>\n",
       "      <td>NaN</td>\n",
       "      <td>NaN</td>\n",
       "    </tr>\n",
       "    <tr>\n",
       "      <th>hp</th>\n",
       "      <td>1436.0</td>\n",
       "      <td>NaN</td>\n",
       "      <td>NaN</td>\n",
       "      <td>NaN</td>\n",
       "      <td>101.502089</td>\n",
       "      <td>14.98108</td>\n",
       "      <td>69.0</td>\n",
       "      <td>90.0</td>\n",
       "      <td>110.0</td>\n",
       "      <td>110.0</td>\n",
       "      <td>192.0</td>\n",
       "    </tr>\n",
       "    <tr>\n",
       "      <th>met_color</th>\n",
       "      <td>1436.0</td>\n",
       "      <td>NaN</td>\n",
       "      <td>NaN</td>\n",
       "      <td>NaN</td>\n",
       "      <td>0.674791</td>\n",
       "      <td>0.468616</td>\n",
       "      <td>0.0</td>\n",
       "      <td>0.0</td>\n",
       "      <td>1.0</td>\n",
       "      <td>1.0</td>\n",
       "      <td>1.0</td>\n",
       "    </tr>\n",
       "    <tr>\n",
       "      <th>automatic</th>\n",
       "      <td>1436.0</td>\n",
       "      <td>NaN</td>\n",
       "      <td>NaN</td>\n",
       "      <td>NaN</td>\n",
       "      <td>0.05571</td>\n",
       "      <td>0.229441</td>\n",
       "      <td>0.0</td>\n",
       "      <td>0.0</td>\n",
       "      <td>0.0</td>\n",
       "      <td>0.0</td>\n",
       "      <td>1.0</td>\n",
       "    </tr>\n",
       "    <tr>\n",
       "      <th>cc</th>\n",
       "      <td>1436.0</td>\n",
       "      <td>NaN</td>\n",
       "      <td>NaN</td>\n",
       "      <td>NaN</td>\n",
       "      <td>1576.85585</td>\n",
       "      <td>424.38677</td>\n",
       "      <td>1300.0</td>\n",
       "      <td>1400.0</td>\n",
       "      <td>1600.0</td>\n",
       "      <td>1600.0</td>\n",
       "      <td>16000.0</td>\n",
       "    </tr>\n",
       "    <tr>\n",
       "      <th>doors</th>\n",
       "      <td>1436.0</td>\n",
       "      <td>NaN</td>\n",
       "      <td>NaN</td>\n",
       "      <td>NaN</td>\n",
       "      <td>4.033426</td>\n",
       "      <td>0.952677</td>\n",
       "      <td>2.0</td>\n",
       "      <td>3.0</td>\n",
       "      <td>4.0</td>\n",
       "      <td>5.0</td>\n",
       "      <td>5.0</td>\n",
       "    </tr>\n",
       "    <tr>\n",
       "      <th>gears</th>\n",
       "      <td>1436.0</td>\n",
       "      <td>NaN</td>\n",
       "      <td>NaN</td>\n",
       "      <td>NaN</td>\n",
       "      <td>5.026462</td>\n",
       "      <td>0.18851</td>\n",
       "      <td>3.0</td>\n",
       "      <td>5.0</td>\n",
       "      <td>5.0</td>\n",
       "      <td>5.0</td>\n",
       "      <td>6.0</td>\n",
       "    </tr>\n",
       "    <tr>\n",
       "      <th>quarterly_tax</th>\n",
       "      <td>1436.0</td>\n",
       "      <td>NaN</td>\n",
       "      <td>NaN</td>\n",
       "      <td>NaN</td>\n",
       "      <td>87.122563</td>\n",
       "      <td>41.128611</td>\n",
       "      <td>19.0</td>\n",
       "      <td>69.0</td>\n",
       "      <td>85.0</td>\n",
       "      <td>85.0</td>\n",
       "      <td>283.0</td>\n",
       "    </tr>\n",
       "    <tr>\n",
       "      <th>weight</th>\n",
       "      <td>1436.0</td>\n",
       "      <td>NaN</td>\n",
       "      <td>NaN</td>\n",
       "      <td>NaN</td>\n",
       "      <td>1072.45961</td>\n",
       "      <td>52.64112</td>\n",
       "      <td>1000.0</td>\n",
       "      <td>1040.0</td>\n",
       "      <td>1070.0</td>\n",
       "      <td>1085.0</td>\n",
       "      <td>1615.0</td>\n",
       "    </tr>\n",
       "    <tr>\n",
       "      <th>mfr_guarantee</th>\n",
       "      <td>1436.0</td>\n",
       "      <td>NaN</td>\n",
       "      <td>NaN</td>\n",
       "      <td>NaN</td>\n",
       "      <td>0.409471</td>\n",
       "      <td>0.491907</td>\n",
       "      <td>0.0</td>\n",
       "      <td>0.0</td>\n",
       "      <td>0.0</td>\n",
       "      <td>1.0</td>\n",
       "      <td>1.0</td>\n",
       "    </tr>\n",
       "    <tr>\n",
       "      <th>bovag_guarantee</th>\n",
       "      <td>1436.0</td>\n",
       "      <td>NaN</td>\n",
       "      <td>NaN</td>\n",
       "      <td>NaN</td>\n",
       "      <td>0.895543</td>\n",
       "      <td>0.305959</td>\n",
       "      <td>0.0</td>\n",
       "      <td>1.0</td>\n",
       "      <td>1.0</td>\n",
       "      <td>1.0</td>\n",
       "      <td>1.0</td>\n",
       "    </tr>\n",
       "    <tr>\n",
       "      <th>guarantee_period</th>\n",
       "      <td>1436.0</td>\n",
       "      <td>NaN</td>\n",
       "      <td>NaN</td>\n",
       "      <td>NaN</td>\n",
       "      <td>3.81546</td>\n",
       "      <td>3.011025</td>\n",
       "      <td>3.0</td>\n",
       "      <td>3.0</td>\n",
       "      <td>3.0</td>\n",
       "      <td>3.0</td>\n",
       "      <td>36.0</td>\n",
       "    </tr>\n",
       "    <tr>\n",
       "      <th>abs</th>\n",
       "      <td>1436.0</td>\n",
       "      <td>NaN</td>\n",
       "      <td>NaN</td>\n",
       "      <td>NaN</td>\n",
       "      <td>0.81337</td>\n",
       "      <td>0.38975</td>\n",
       "      <td>0.0</td>\n",
       "      <td>1.0</td>\n",
       "      <td>1.0</td>\n",
       "      <td>1.0</td>\n",
       "      <td>1.0</td>\n",
       "    </tr>\n",
       "    <tr>\n",
       "      <th>airbag_1</th>\n",
       "      <td>1436.0</td>\n",
       "      <td>NaN</td>\n",
       "      <td>NaN</td>\n",
       "      <td>NaN</td>\n",
       "      <td>0.970752</td>\n",
       "      <td>0.168559</td>\n",
       "      <td>0.0</td>\n",
       "      <td>1.0</td>\n",
       "      <td>1.0</td>\n",
       "      <td>1.0</td>\n",
       "      <td>1.0</td>\n",
       "    </tr>\n",
       "    <tr>\n",
       "      <th>airbag_2</th>\n",
       "      <td>1436.0</td>\n",
       "      <td>NaN</td>\n",
       "      <td>NaN</td>\n",
       "      <td>NaN</td>\n",
       "      <td>0.722841</td>\n",
       "      <td>0.447751</td>\n",
       "      <td>0.0</td>\n",
       "      <td>0.0</td>\n",
       "      <td>1.0</td>\n",
       "      <td>1.0</td>\n",
       "      <td>1.0</td>\n",
       "    </tr>\n",
       "    <tr>\n",
       "      <th>airco</th>\n",
       "      <td>1436.0</td>\n",
       "      <td>NaN</td>\n",
       "      <td>NaN</td>\n",
       "      <td>NaN</td>\n",
       "      <td>0.508357</td>\n",
       "      <td>0.500104</td>\n",
       "      <td>0.0</td>\n",
       "      <td>0.0</td>\n",
       "      <td>1.0</td>\n",
       "      <td>1.0</td>\n",
       "      <td>1.0</td>\n",
       "    </tr>\n",
       "    <tr>\n",
       "      <th>automatic_airco</th>\n",
       "      <td>1436.0</td>\n",
       "      <td>NaN</td>\n",
       "      <td>NaN</td>\n",
       "      <td>NaN</td>\n",
       "      <td>0.056407</td>\n",
       "      <td>0.230786</td>\n",
       "      <td>0.0</td>\n",
       "      <td>0.0</td>\n",
       "      <td>0.0</td>\n",
       "      <td>0.0</td>\n",
       "      <td>1.0</td>\n",
       "    </tr>\n",
       "    <tr>\n",
       "      <th>boardcomputer</th>\n",
       "      <td>1436.0</td>\n",
       "      <td>NaN</td>\n",
       "      <td>NaN</td>\n",
       "      <td>NaN</td>\n",
       "      <td>0.294568</td>\n",
       "      <td>0.456007</td>\n",
       "      <td>0.0</td>\n",
       "      <td>0.0</td>\n",
       "      <td>0.0</td>\n",
       "      <td>1.0</td>\n",
       "      <td>1.0</td>\n",
       "    </tr>\n",
       "    <tr>\n",
       "      <th>cd_player</th>\n",
       "      <td>1436.0</td>\n",
       "      <td>NaN</td>\n",
       "      <td>NaN</td>\n",
       "      <td>NaN</td>\n",
       "      <td>0.218663</td>\n",
       "      <td>0.413483</td>\n",
       "      <td>0.0</td>\n",
       "      <td>0.0</td>\n",
       "      <td>0.0</td>\n",
       "      <td>0.0</td>\n",
       "      <td>1.0</td>\n",
       "    </tr>\n",
       "    <tr>\n",
       "      <th>central_lock</th>\n",
       "      <td>1436.0</td>\n",
       "      <td>NaN</td>\n",
       "      <td>NaN</td>\n",
       "      <td>NaN</td>\n",
       "      <td>0.580084</td>\n",
       "      <td>0.493717</td>\n",
       "      <td>0.0</td>\n",
       "      <td>0.0</td>\n",
       "      <td>1.0</td>\n",
       "      <td>1.0</td>\n",
       "      <td>1.0</td>\n",
       "    </tr>\n",
       "    <tr>\n",
       "      <th>powered_windows</th>\n",
       "      <td>1436.0</td>\n",
       "      <td>NaN</td>\n",
       "      <td>NaN</td>\n",
       "      <td>NaN</td>\n",
       "      <td>0.561978</td>\n",
       "      <td>0.496317</td>\n",
       "      <td>0.0</td>\n",
       "      <td>0.0</td>\n",
       "      <td>1.0</td>\n",
       "      <td>1.0</td>\n",
       "      <td>1.0</td>\n",
       "    </tr>\n",
       "    <tr>\n",
       "      <th>power_steering</th>\n",
       "      <td>1436.0</td>\n",
       "      <td>NaN</td>\n",
       "      <td>NaN</td>\n",
       "      <td>NaN</td>\n",
       "      <td>0.977716</td>\n",
       "      <td>0.147657</td>\n",
       "      <td>0.0</td>\n",
       "      <td>1.0</td>\n",
       "      <td>1.0</td>\n",
       "      <td>1.0</td>\n",
       "      <td>1.0</td>\n",
       "    </tr>\n",
       "    <tr>\n",
       "      <th>radio</th>\n",
       "      <td>1436.0</td>\n",
       "      <td>NaN</td>\n",
       "      <td>NaN</td>\n",
       "      <td>NaN</td>\n",
       "      <td>0.14624</td>\n",
       "      <td>0.353469</td>\n",
       "      <td>0.0</td>\n",
       "      <td>0.0</td>\n",
       "      <td>0.0</td>\n",
       "      <td>0.0</td>\n",
       "      <td>1.0</td>\n",
       "    </tr>\n",
       "    <tr>\n",
       "      <th>mistlamps</th>\n",
       "      <td>1436.0</td>\n",
       "      <td>NaN</td>\n",
       "      <td>NaN</td>\n",
       "      <td>NaN</td>\n",
       "      <td>0.256964</td>\n",
       "      <td>0.437111</td>\n",
       "      <td>0.0</td>\n",
       "      <td>0.0</td>\n",
       "      <td>0.0</td>\n",
       "      <td>1.0</td>\n",
       "      <td>1.0</td>\n",
       "    </tr>\n",
       "    <tr>\n",
       "      <th>sport_model</th>\n",
       "      <td>1436.0</td>\n",
       "      <td>NaN</td>\n",
       "      <td>NaN</td>\n",
       "      <td>NaN</td>\n",
       "      <td>0.300139</td>\n",
       "      <td>0.458478</td>\n",
       "      <td>0.0</td>\n",
       "      <td>0.0</td>\n",
       "      <td>0.0</td>\n",
       "      <td>1.0</td>\n",
       "      <td>1.0</td>\n",
       "    </tr>\n",
       "    <tr>\n",
       "      <th>backseat_divider</th>\n",
       "      <td>1436.0</td>\n",
       "      <td>NaN</td>\n",
       "      <td>NaN</td>\n",
       "      <td>NaN</td>\n",
       "      <td>0.770195</td>\n",
       "      <td>0.420854</td>\n",
       "      <td>0.0</td>\n",
       "      <td>1.0</td>\n",
       "      <td>1.0</td>\n",
       "      <td>1.0</td>\n",
       "      <td>1.0</td>\n",
       "    </tr>\n",
       "    <tr>\n",
       "      <th>metallic_rim</th>\n",
       "      <td>1436.0</td>\n",
       "      <td>NaN</td>\n",
       "      <td>NaN</td>\n",
       "      <td>NaN</td>\n",
       "      <td>0.204735</td>\n",
       "      <td>0.403649</td>\n",
       "      <td>0.0</td>\n",
       "      <td>0.0</td>\n",
       "      <td>0.0</td>\n",
       "      <td>0.0</td>\n",
       "      <td>1.0</td>\n",
       "    </tr>\n",
       "    <tr>\n",
       "      <th>radio_cassette</th>\n",
       "      <td>1436.0</td>\n",
       "      <td>NaN</td>\n",
       "      <td>NaN</td>\n",
       "      <td>NaN</td>\n",
       "      <td>0.145543</td>\n",
       "      <td>0.35277</td>\n",
       "      <td>0.0</td>\n",
       "      <td>0.0</td>\n",
       "      <td>0.0</td>\n",
       "      <td>0.0</td>\n",
       "      <td>1.0</td>\n",
       "    </tr>\n",
       "    <tr>\n",
       "      <th>tow_bar</th>\n",
       "      <td>1436.0</td>\n",
       "      <td>NaN</td>\n",
       "      <td>NaN</td>\n",
       "      <td>NaN</td>\n",
       "      <td>0.277855</td>\n",
       "      <td>0.448098</td>\n",
       "      <td>0.0</td>\n",
       "      <td>0.0</td>\n",
       "      <td>0.0</td>\n",
       "      <td>1.0</td>\n",
       "      <td>1.0</td>\n",
       "    </tr>\n",
       "  </tbody>\n",
       "</table>\n",
       "</div>"
      ],
      "text/plain": [
       "                   count unique     top  freq          mean           std  \\\n",
       "price             1436.0    NaN     NaN   NaN  10730.824513   3626.964585   \n",
       "age_08_04         1436.0    NaN     NaN   NaN     55.947075     18.599988   \n",
       "mfg_month         1436.0    NaN     NaN   NaN      5.548747      3.354085   \n",
       "mfg_year          1436.0    NaN     NaN   NaN   1999.625348      1.540722   \n",
       "km                1436.0    NaN     NaN   NaN  68533.259749  37506.448872   \n",
       "fuel_type           1436      3  Petrol  1264           NaN           NaN   \n",
       "hp                1436.0    NaN     NaN   NaN    101.502089      14.98108   \n",
       "met_color         1436.0    NaN     NaN   NaN      0.674791      0.468616   \n",
       "automatic         1436.0    NaN     NaN   NaN       0.05571      0.229441   \n",
       "cc                1436.0    NaN     NaN   NaN    1576.85585     424.38677   \n",
       "doors             1436.0    NaN     NaN   NaN      4.033426      0.952677   \n",
       "gears             1436.0    NaN     NaN   NaN      5.026462       0.18851   \n",
       "quarterly_tax     1436.0    NaN     NaN   NaN     87.122563     41.128611   \n",
       "weight            1436.0    NaN     NaN   NaN    1072.45961      52.64112   \n",
       "mfr_guarantee     1436.0    NaN     NaN   NaN      0.409471      0.491907   \n",
       "bovag_guarantee   1436.0    NaN     NaN   NaN      0.895543      0.305959   \n",
       "guarantee_period  1436.0    NaN     NaN   NaN       3.81546      3.011025   \n",
       "abs               1436.0    NaN     NaN   NaN       0.81337       0.38975   \n",
       "airbag_1          1436.0    NaN     NaN   NaN      0.970752      0.168559   \n",
       "airbag_2          1436.0    NaN     NaN   NaN      0.722841      0.447751   \n",
       "airco             1436.0    NaN     NaN   NaN      0.508357      0.500104   \n",
       "automatic_airco   1436.0    NaN     NaN   NaN      0.056407      0.230786   \n",
       "boardcomputer     1436.0    NaN     NaN   NaN      0.294568      0.456007   \n",
       "cd_player         1436.0    NaN     NaN   NaN      0.218663      0.413483   \n",
       "central_lock      1436.0    NaN     NaN   NaN      0.580084      0.493717   \n",
       "powered_windows   1436.0    NaN     NaN   NaN      0.561978      0.496317   \n",
       "power_steering    1436.0    NaN     NaN   NaN      0.977716      0.147657   \n",
       "radio             1436.0    NaN     NaN   NaN       0.14624      0.353469   \n",
       "mistlamps         1436.0    NaN     NaN   NaN      0.256964      0.437111   \n",
       "sport_model       1436.0    NaN     NaN   NaN      0.300139      0.458478   \n",
       "backseat_divider  1436.0    NaN     NaN   NaN      0.770195      0.420854   \n",
       "metallic_rim      1436.0    NaN     NaN   NaN      0.204735      0.403649   \n",
       "radio_cassette    1436.0    NaN     NaN   NaN      0.145543       0.35277   \n",
       "tow_bar           1436.0    NaN     NaN   NaN      0.277855      0.448098   \n",
       "\n",
       "                     min      25%      50%       75%       max  \n",
       "price             4350.0   8450.0   9900.0   11950.0   32500.0  \n",
       "age_08_04            1.0     44.0     61.0      70.0      80.0  \n",
       "mfg_month            1.0      3.0      5.0       8.0      12.0  \n",
       "mfg_year          1998.0   1998.0   1999.0    2001.0    2004.0  \n",
       "km                   1.0  43000.0  63389.5  87020.75  243000.0  \n",
       "fuel_type            NaN      NaN      NaN       NaN       NaN  \n",
       "hp                  69.0     90.0    110.0     110.0     192.0  \n",
       "met_color            0.0      0.0      1.0       1.0       1.0  \n",
       "automatic            0.0      0.0      0.0       0.0       1.0  \n",
       "cc                1300.0   1400.0   1600.0    1600.0   16000.0  \n",
       "doors                2.0      3.0      4.0       5.0       5.0  \n",
       "gears                3.0      5.0      5.0       5.0       6.0  \n",
       "quarterly_tax       19.0     69.0     85.0      85.0     283.0  \n",
       "weight            1000.0   1040.0   1070.0    1085.0    1615.0  \n",
       "mfr_guarantee        0.0      0.0      0.0       1.0       1.0  \n",
       "bovag_guarantee      0.0      1.0      1.0       1.0       1.0  \n",
       "guarantee_period     3.0      3.0      3.0       3.0      36.0  \n",
       "abs                  0.0      1.0      1.0       1.0       1.0  \n",
       "airbag_1             0.0      1.0      1.0       1.0       1.0  \n",
       "airbag_2             0.0      0.0      1.0       1.0       1.0  \n",
       "airco                0.0      0.0      1.0       1.0       1.0  \n",
       "automatic_airco      0.0      0.0      0.0       0.0       1.0  \n",
       "boardcomputer        0.0      0.0      0.0       1.0       1.0  \n",
       "cd_player            0.0      0.0      0.0       0.0       1.0  \n",
       "central_lock         0.0      0.0      1.0       1.0       1.0  \n",
       "powered_windows      0.0      0.0      1.0       1.0       1.0  \n",
       "power_steering       0.0      1.0      1.0       1.0       1.0  \n",
       "radio                0.0      0.0      0.0       0.0       1.0  \n",
       "mistlamps            0.0      0.0      0.0       1.0       1.0  \n",
       "sport_model          0.0      0.0      0.0       1.0       1.0  \n",
       "backseat_divider     0.0      1.0      1.0       1.0       1.0  \n",
       "metallic_rim         0.0      0.0      0.0       0.0       1.0  \n",
       "radio_cassette       0.0      0.0      0.0       0.0       1.0  \n",
       "tow_bar              0.0      0.0      0.0       1.0       1.0  "
      ]
     },
     "execution_count": 14,
     "metadata": {},
     "output_type": "execute_result"
    }
   ],
   "source": [
    "df.describe(include='all').T"
   ]
  },
  {
   "cell_type": "markdown",
   "metadata": {
    "id": "ayNm3ptHQjzc"
   },
   "source": [
    "Buscamos valores nulos"
   ]
  },
  {
   "cell_type": "code",
   "execution_count": 15,
   "metadata": {
    "ExecuteTime": {
     "end_time": "2023-10-02T00:44:44.806242800Z",
     "start_time": "2023-10-02T00:44:44.797741200Z"
    },
    "colab": {
     "base_uri": "https://localhost:8080/"
    },
    "id": "bwVRpQjXQbvs",
    "outputId": "fa3e8e53-9605-450b-9d7b-f1450443dc1f"
   },
   "outputs": [
    {
     "data": {
      "text/plain": [
       "price               0\n",
       "age_08_04           0\n",
       "mfg_month           0\n",
       "mfg_year            0\n",
       "km                  0\n",
       "fuel_type           0\n",
       "hp                  0\n",
       "met_color           0\n",
       "automatic           0\n",
       "cc                  0\n",
       "doors               0\n",
       "gears               0\n",
       "quarterly_tax       0\n",
       "weight              0\n",
       "mfr_guarantee       0\n",
       "bovag_guarantee     0\n",
       "guarantee_period    0\n",
       "abs                 0\n",
       "airbag_1            0\n",
       "airbag_2            0\n",
       "airco               0\n",
       "automatic_airco     0\n",
       "boardcomputer       0\n",
       "cd_player           0\n",
       "central_lock        0\n",
       "powered_windows     0\n",
       "power_steering      0\n",
       "radio               0\n",
       "mistlamps           0\n",
       "sport_model         0\n",
       "backseat_divider    0\n",
       "metallic_rim        0\n",
       "radio_cassette      0\n",
       "tow_bar             0\n",
       "dtype: int64"
      ]
     },
     "execution_count": 15,
     "metadata": {},
     "output_type": "execute_result"
    }
   ],
   "source": [
    "df.isnull().sum()"
   ]
  },
  {
   "cell_type": "markdown",
   "metadata": {
    "id": "7ksSmZweQfnt"
   },
   "source": [
    "Buscamos valores duplicados"
   ]
  },
  {
   "cell_type": "code",
   "execution_count": 16,
   "metadata": {
    "ExecuteTime": {
     "end_time": "2023-10-02T00:44:46.792098900Z",
     "start_time": "2023-10-02T00:44:46.750091900Z"
    },
    "colab": {
     "base_uri": "https://localhost:8080/",
     "height": 130
    },
    "id": "CxxyCJCDQeYU",
    "outputId": "c7558aa9-5647-4d53-b923-0d951a3fb9cb"
   },
   "outputs": [
    {
     "data": {
      "text/html": [
       "<div>\n",
       "<style scoped>\n",
       "    .dataframe tbody tr th:only-of-type {\n",
       "        vertical-align: middle;\n",
       "    }\n",
       "\n",
       "    .dataframe tbody tr th {\n",
       "        vertical-align: top;\n",
       "    }\n",
       "\n",
       "    .dataframe thead th {\n",
       "        text-align: right;\n",
       "    }\n",
       "</style>\n",
       "<table border=\"1\" class=\"dataframe\">\n",
       "  <thead>\n",
       "    <tr style=\"text-align: right;\">\n",
       "      <th></th>\n",
       "      <th>price</th>\n",
       "      <th>age_08_04</th>\n",
       "      <th>mfg_month</th>\n",
       "      <th>mfg_year</th>\n",
       "      <th>km</th>\n",
       "      <th>fuel_type</th>\n",
       "      <th>hp</th>\n",
       "      <th>met_color</th>\n",
       "      <th>automatic</th>\n",
       "      <th>cc</th>\n",
       "      <th>...</th>\n",
       "      <th>central_lock</th>\n",
       "      <th>powered_windows</th>\n",
       "      <th>power_steering</th>\n",
       "      <th>radio</th>\n",
       "      <th>mistlamps</th>\n",
       "      <th>sport_model</th>\n",
       "      <th>backseat_divider</th>\n",
       "      <th>metallic_rim</th>\n",
       "      <th>radio_cassette</th>\n",
       "      <th>tow_bar</th>\n",
       "    </tr>\n",
       "  </thead>\n",
       "  <tbody>\n",
       "    <tr>\n",
       "      <th>113</th>\n",
       "      <td>24950</td>\n",
       "      <td>8</td>\n",
       "      <td>1</td>\n",
       "      <td>2004</td>\n",
       "      <td>13253</td>\n",
       "      <td>Diesel</td>\n",
       "      <td>116</td>\n",
       "      <td>1</td>\n",
       "      <td>0</td>\n",
       "      <td>2000</td>\n",
       "      <td>...</td>\n",
       "      <td>1</td>\n",
       "      <td>1</td>\n",
       "      <td>1</td>\n",
       "      <td>0</td>\n",
       "      <td>0</td>\n",
       "      <td>0</td>\n",
       "      <td>0</td>\n",
       "      <td>0</td>\n",
       "      <td>0</td>\n",
       "      <td>0</td>\n",
       "    </tr>\n",
       "  </tbody>\n",
       "</table>\n",
       "<p>1 rows × 34 columns</p>\n",
       "</div>"
      ],
      "text/plain": [
       "     price  age_08_04  mfg_month  mfg_year     km fuel_type   hp  met_color  \\\n",
       "113  24950          8          1      2004  13253    Diesel  116          1   \n",
       "\n",
       "     automatic    cc  ...  central_lock  powered_windows  power_steering  \\\n",
       "113          0  2000  ...             1                1               1   \n",
       "\n",
       "     radio  mistlamps  sport_model  backseat_divider  metallic_rim  \\\n",
       "113      0          0            0                 0             0   \n",
       "\n",
       "     radio_cassette  tow_bar  \n",
       "113               0        0  \n",
       "\n",
       "[1 rows x 34 columns]"
      ]
     },
     "execution_count": 16,
     "metadata": {},
     "output_type": "execute_result"
    }
   ],
   "source": [
    "df[df.duplicated()]"
   ]
  },
  {
   "cell_type": "code",
   "execution_count": 17,
   "metadata": {
    "ExecuteTime": {
     "end_time": "2023-10-02T00:44:48.658741400Z",
     "start_time": "2023-10-02T00:44:48.654740900Z"
    },
    "id": "isXk9-TrQ7O-"
   },
   "outputs": [],
   "source": [
    "#Dada la duplicación de un registro, es temprano para decidir si eliminarlo o no."
   ]
  },
  {
   "cell_type": "markdown",
   "metadata": {
    "id": "LYnSeJIBRAfF"
   },
   "source": [
    "Mostrar la variable objetivo"
   ]
  },
  {
   "cell_type": "code",
   "execution_count": 18,
   "metadata": {
    "ExecuteTime": {
     "end_time": "2023-10-02T00:44:52.006787500Z",
     "start_time": "2023-10-02T00:44:50.879423100Z"
    },
    "colab": {
     "base_uri": "https://localhost:8080/",
     "height": 693
    },
    "id": "NdCixaYhQ-z8",
    "outputId": "891a0aad-ce0f-4898-b225-90bd90817ece"
   },
   "outputs": [
    {
     "data": {
      "image/png": "[encoded data removed]",
      "text/plain": [
       "<Figure size 1000x700 with 2 Axes>"
      ]
     },
     "metadata": {},
     "output_type": "display_data"
    }
   ],
   "source": [
    "fig, (ax1, ax2) = plt.subplots(nrows=1, ncols=2, figsize=(10, 7))\n",
    "fig.suptitle(\"Distribution of Price\")\n",
    "ax1.hist(df.price)\n",
    "ax1.set_xlabel(df.price.name)\n",
    "\n",
    "ax2.boxplot(df.price)\n",
    "ax2.set_xlabel(df.price.name)\n",
    "\n",
    "plt.show()"
   ]
  },
  {
   "cell_type": "code",
   "execution_count": null,
   "metadata": {
    "id": "Me1dfMVoRbSD"
   },
   "outputs": [],
   "source": [
    "# Se puede observar que el histograma presenta una forma similar a una distribución normal, pero con un alargamiento hacía la derecha.\n",
    "# Esta distribución presenta un sesgo positivo (o a la derecha), en donde la media tendrá un valor mayor que la mediana, y la mediana tendrá un valor mayor que la moda."
   ]
  },
  {
   "cell_type": "markdown",
   "metadata": {
    "id": "6E_fE_5vSWtj"
   },
   "source": [
    "Mostrar la variable objetivo con mayor zoom"
   ]
  },
  {
   "cell_type": "code",
   "execution_count": 19,
   "metadata": {
    "ExecuteTime": {
     "end_time": "2023-10-02T00:44:56.116813600Z",
     "start_time": "2023-10-02T00:44:55.853266900Z"
    },
    "colab": {
     "base_uri": "https://localhost:8080/",
     "height": 693
    },
    "id": "jdZy22BySZ4D",
    "outputId": "6a0b0c89-2672-4401-935c-25e2bd42140d"
   },
   "outputs": [
    {
     "data": {
      "image/png": "[encoded data removed]",
      "text/plain": [
       "<Figure size 1000x700 with 2 Axes>"
      ]
     },
     "metadata": {},
     "output_type": "display_data"
    }
   ],
   "source": [
    "fig, (ax1, ax2) = plt.subplots(nrows=1, ncols=2, figsize=(10, 7))\n",
    "fig.suptitle(\"Distribution of Price\")\n",
    "ax1.hist(df.price, bins=60)\n",
    "ax1.set_xlabel(df.price.name)\n",
    "\n",
    "ax2.boxplot(df.price)\n",
    "ax2.set_xlabel(df.price.name)\n",
    "\n",
    "plt.show()\n",
    "\n",
    "#En esta ocasión se configura el parámetro bins en 60, el cual por defecto es 10, y representa el número de contenedores que serán representados en el histograma."
   ]
  },
  {
   "cell_type": "code",
   "execution_count": 20,
   "metadata": {
    "ExecuteTime": {
     "end_time": "2023-10-02T00:45:14.439892100Z",
     "start_time": "2023-10-02T00:44:59.367245800Z"
    },
    "colab": {
     "base_uri": "https://localhost:8080/",
     "height": 470
    },
    "id": "i10cwITSSy87",
    "outputId": "b06f83ea-5baa-4a86-bf9d-4262aac70177"
   },
   "outputs": [
    {
     "name": "stdout",
     "output_type": "stream",
     "text": [
      "Valor máximo: 17847.5\n"
     ]
    },
    {
     "data": {
      "image/png": "[encoded data removed]",
      "text/plain": [
       "<Figure size 640x480 with 1 Axes>"
      ]
     },
     "metadata": {},
     "output_type": "display_data"
    }
   ],
   "source": [
    "# Ahora buscaremos el valor máximo a partir del cual la variable objetivo (precio) deja de caer dentro del extremo superior\n",
    "# del diagrama de caja-bigotes (boxplots)\n",
    "\n",
    "sns.boxplot(x=\"km\", y=\"price\", data=df)\n",
    "max_value = plt.gca().lines[4].get_ydata().max()\n",
    "print(\"Valor máximo:\", max_value)"
   ]
  },
  {
   "cell_type": "code",
   "execution_count": 21,
   "metadata": {
    "ExecuteTime": {
     "end_time": "2023-10-02T00:47:27.241275900Z",
     "start_time": "2023-10-02T00:47:27.236292600Z"
    },
    "colab": {
     "base_uri": "https://localhost:8080/"
    },
    "id": "EqvTa2RwTLSy",
    "outputId": "d50ba86a-8612-45cb-a78a-ea8c2735dfc8"
   },
   "outputs": [
    {
     "name": "stdout",
     "output_type": "stream",
     "text": [
      "Número de registros mayores a 17847.5 : 102\n"
     ]
    }
   ],
   "source": [
    "registros_mayores = (df['price'] > max_value).sum()\n",
    "\n",
    "# Imprimir el número de registros mayores al valor umbral\n",
    "print(\"Número de registros mayores a\", max_value, \":\", registros_mayores)"
   ]
  },
  {
   "cell_type": "markdown",
   "metadata": {
    "id": "DaQitGu-Txyj"
   },
   "source": [
    "Variables categoricas"
   ]
  },
  {
   "cell_type": "code",
   "execution_count": 22,
   "metadata": {
    "ExecuteTime": {
     "end_time": "2023-10-02T00:47:33.416974800Z",
     "start_time": "2023-10-02T00:47:30.139857300Z"
    },
    "colab": {
     "base_uri": "https://localhost:8080/",
     "height": 1000
    },
    "id": "o3PSXWjkT1er",
    "outputId": "e2d20f0c-3007-4c98-b73f-cfb82203f4b1"
   },
   "outputs": [
    {
     "data": {
      "image/png": "[encoded data removed]",
      "text/plain": [
       "<Figure size 3200x2500 with 27 Axes>"
      ]
     },
     "metadata": {},
     "output_type": "display_data"
    }
   ],
   "source": [
    "variables_categoricas = ['mfg_year', 'fuel_type', 'hp', 'met_color', 'automatic', 'cc', 'doors', 'gears',\n",
    "                         'quarterly_tax', 'mfr_guarantee', 'bovag_guarantee', 'guarantee_period', 'abs', 'airbag_1',\n",
    "                         'airbag_2' , 'airco', 'automatic_airco', 'boardcomputer', 'cd_player', 'central_lock',\n",
    "                         'powered_windows', 'power_steering', 'radio', 'sport_model', 'backseat_divider',\n",
    "                         'metallic_rim', 'radio_cassette']\n",
    "\n",
    "fig = plt.figure(figsize=(32,25))\n",
    "\n",
    "for i in range(len(variables_categoricas)):\n",
    "  continuos = variables_categoricas[i]\n",
    "\n",
    "  ax1 = fig.add_subplot(7,4,i+1)\n",
    "  ax1.set_xlabel(continuos)\n",
    "\n",
    "  df.groupby(continuos).size().plot(kind='bar')"
   ]
  },
  {
   "cell_type": "code",
   "execution_count": null,
   "metadata": {
    "id": "ZLN7qEKEZfkB"
   },
   "outputs": [],
   "source": [
    "# Algunas variables binarias quedan sin ser representadas ya que son demasiadas. (tow_bar y mistlamps)"
   ]
  },
  {
   "cell_type": "markdown",
   "metadata": {
    "id": "OhPDnC7tZpqJ"
   },
   "source": [
    "Variables continuas"
   ]
  },
  {
   "cell_type": "code",
   "execution_count": 23,
   "metadata": {
    "ExecuteTime": {
     "end_time": "2023-10-02T00:47:36.480867500Z",
     "start_time": "2023-10-02T00:47:36.447361700Z"
    },
    "colab": {
     "base_uri": "https://localhost:8080/",
     "height": 34
    },
    "id": "p406qpghZpGK",
    "outputId": "3e35aaad-c839-43d0-8280-ec6fca9a57c2"
   },
   "outputs": [
    {
     "data": {
      "text/plain": [
       "<Figure size 3400x2500 with 0 Axes>"
      ]
     },
     "metadata": {},
     "output_type": "display_data"
    }
   ],
   "source": [
    "variables_continuas = []\n",
    "\n",
    "fig = plt.figure(figsize=(34,25))\n",
    "\n",
    "for i in range(len(variables_continuas)):\n",
    "  continuos = variables_continuas[i]\n",
    "\n",
    "  ax1 = fig.add_subplot(3,5,i+1)\n",
    "  ax1.set_xlabel(continuos)\n",
    "\n",
    "  df[continuos].plot(kind='box')"
   ]
  },
  {
   "cell_type": "code",
   "execution_count": 24,
   "metadata": {
    "ExecuteTime": {
     "end_time": "2023-10-02T00:47:40.571280200Z",
     "start_time": "2023-10-02T00:47:39.287054400Z"
    },
    "colab": {
     "base_uri": "https://localhost:8080/",
     "height": 388
    },
    "id": "uZrgT7DZZy3h",
    "outputId": "6467c00c-4924-4048-8b51-522c53f632fd"
   },
   "outputs": [
    {
     "data": {
      "image/png": "[encoded data removed]",
      "text/plain": [
       "<Figure size 3400x2500 with 6 Axes>"
      ]
     },
     "metadata": {},
     "output_type": "display_data"
    }
   ],
   "source": [
    "variables_continuas_scatter = ['age_08_04','km','hp','quarterly_tax','weight','cc']\n",
    "\n",
    "fig = plt.figure(figsize=(34,25))\n",
    "\n",
    "for i in range(len(variables_continuas_scatter)):\n",
    "    aux = variables_continuas_scatter[i]\n",
    "\n",
    "    ax1 = fig.add_subplot(6,5,i+1)\n",
    "    ax1.set_xlabel(aux)\n",
    "\n",
    "    plt.scatter(df[aux],df.price)"
   ]
  },
  {
   "cell_type": "code",
   "execution_count": null,
   "metadata": {
    "id": "CxWZ94J_bIf5"
   },
   "outputs": [],
   "source": [
    "#Podemos observar como las variables hp, quartely_tax no son continuas, es decir son discretas.\n",
    "#Sin embargo podemos observar que la variable cc a primera vista parece continua, pero esto se debe a las proporciones del\n",
    "# del eje x (debido al outliers), en la gráfica anterior se puede observar como cc es un valor discreto y no continuo"
   ]
  },
  {
   "cell_type": "code",
   "execution_count": null,
   "metadata": {
    "id": "_VWCACXwbXLw"
   },
   "outputs": [],
   "source": [
    "#eliminar columnas por falta de significancia estadistica\n",
    "#columns_to_delete = ['doors', 'gears', 'cc', 'mfr_guarantee', 'met_color', 'automatic', 'guarantee_period']\n",
    "#df.drop(columns=columns_to_delete, axis=1, inplace=True)"
   ]
  },
  {
   "cell_type": "code",
   "execution_count": 27,
   "metadata": {
    "ExecuteTime": {
     "end_time": "2023-10-02T00:49:37.079766800Z",
     "start_time": "2023-10-02T00:49:37.032786200Z"
    },
    "id": "6_7teeB3wlie"
   },
   "outputs": [],
   "source": [
    "dummies = pd.get_dummies(data=df, columns=['fuel_type'], drop_first=True) # convierto las variables dummies\n",
    "pd.concat([df, dummies], axis=1)\n",
    "df.drop(columns=[\"fuel_type\"], axis=1, inplace=True)"
   ]
  },
  {
   "cell_type": "code",
   "execution_count": 28,
   "metadata": {
    "ExecuteTime": {
     "end_time": "2023-10-02T00:49:39.229778500Z",
     "start_time": "2023-10-02T00:49:39.201772300Z"
    },
    "colab": {
     "base_uri": "https://localhost:8080/"
    },
    "id": "E7xr-H0EwosS",
    "outputId": "595d2312-6aca-4ec4-af82-b76487034f5d"
   },
   "outputs": [
    {
     "data": {
      "text/plain": [
       "((861, 32), (575, 32), (861,), (575,))"
      ]
     },
     "execution_count": 28,
     "metadata": {},
     "output_type": "execute_result"
    }
   ],
   "source": [
    "split_param = {\n",
    "    'test_size': 0.4,\n",
    "    'random_state': 42,\n",
    "    'shuffle': True\n",
    "}\n",
    "\n",
    "x_train_1, x_test_1, y_train_1, y_test_1 = train_test_split(df.drop(['price'], axis=1), df.price, **split_param)\n",
    "x_train_1.shape, x_test_1.shape, y_train_1.shape, y_test_1.shape"
   ]
  },
  {
   "cell_type": "markdown",
   "metadata": {
    "id": "wd0ABNhAxEut"
   },
   "source": [
    "Primera ejecución de una regresión con todas las variables."
   ]
  },
  {
   "cell_type": "code",
   "execution_count": 29,
   "metadata": {
    "ExecuteTime": {
     "end_time": "2023-10-02T00:49:43.893562700Z",
     "start_time": "2023-10-02T00:49:42.757864Z"
    },
    "colab": {
     "base_uri": "https://localhost:8080/"
    },
    "id": "jxFjOo3Bwsal",
    "outputId": "bb232636-1fe2-4925-9fe5-993b2c59f728"
   },
   "outputs": [
    {
     "name": "stdout",
     "output_type": "stream",
     "text": [
      "                            OLS Regression Results                            \n",
      "==============================================================================\n",
      "Dep. Variable:                  price   R-squared:                       0.912\n",
      "Model:                            OLS   Adj. R-squared:                  0.909\n",
      "Method:                 Least Squares   F-statistic:                     277.4\n",
      "Date:                Sun, 01 Oct 2023   Prob (F-statistic):               0.00\n",
      "Time:                        21:49:43   Log-Likelihood:                -7242.5\n",
      "No. Observations:                 861   AIC:                         1.455e+04\n",
      "Df Residuals:                     829   BIC:                         1.470e+04\n",
      "Df Model:                          31                                         \n",
      "Covariance Type:            nonrobust                                         \n",
      "====================================================================================\n",
      "                       coef    std err          t      P>|t|      [0.025      0.975]\n",
      "------------------------------------------------------------------------------------\n",
      "const               -0.0088      0.001    -14.398      0.000      -0.010      -0.008\n",
      "age_08_04         -122.8427      4.488    -27.370      0.000    -131.652    -114.033\n",
      "mfg_month         -112.6859     11.636     -9.685      0.000    -135.525     -89.847\n",
      "mfg_year             2.0532      0.903      2.273      0.023       0.280       3.826\n",
      "km                  -0.0183      0.001    -13.387      0.000      -0.021      -0.016\n",
      "hp                  22.9072      3.179      7.206      0.000      16.667      29.147\n",
      "met_color           53.0640     87.752      0.605      0.546    -119.179     225.307\n",
      "automatic          348.7658    167.386      2.084      0.038      20.216     677.315\n",
      "cc                  -0.0935      0.078     -1.193      0.233      -0.247       0.060\n",
      "doors               84.1701     44.296      1.900      0.058      -2.775     171.115\n",
      "gears              162.4304    212.949      0.763      0.446    -255.552     580.413\n",
      "quarterly_tax        6.9310      1.524      4.547      0.000       3.939       9.923\n",
      "weight               9.8625      1.374      7.178      0.000       7.166      12.559\n",
      "mfr_guarantee      171.3168     85.905      1.994      0.046       2.700     339.934\n",
      "bovag_guarantee    670.4528    147.558      4.544      0.000     380.822     960.083\n",
      "guarantee_period    62.1817     16.136      3.854      0.000      30.509      93.854\n",
      "abs               -506.7305    147.738     -3.430      0.001    -796.714    -216.747\n",
      "airbag_1           151.9528    273.149      0.556      0.578    -384.193     688.098\n",
      "airbag_2            67.2116    152.415      0.441      0.659    -231.952     366.375\n",
      "airco              290.6149    102.294      2.841      0.005      89.830     491.400\n",
      "automatic_airco   2449.2773    214.840     11.400      0.000    2027.583    2870.971\n",
      "boardcomputer     -387.5478    140.952     -2.750      0.006    -664.212    -110.884\n",
      "cd_player          166.5415    115.627      1.440      0.150     -60.414     393.497\n",
      "central_lock      -181.3685    170.849     -1.062      0.289    -516.715     153.978\n",
      "powered_windows    485.0645    171.622      2.826      0.005     148.199     821.930\n",
      "power_steering    -144.6207    309.959     -0.467      0.641    -753.016     463.775\n",
      "radio            -1288.4974   1150.916     -1.120      0.263   -3547.549     970.554\n",
      "mistlamps           31.1959    126.299      0.247      0.805    -216.708     279.100\n",
      "sport_model        312.9729     98.790      3.168      0.002     119.064     506.881\n",
      "backseat_divider  -135.9332    142.307     -0.955      0.340    -415.258     143.391\n",
      "metallic_rim        24.4125    111.491      0.219      0.827    -194.426     243.251\n",
      "radio_cassette    1186.6983   1155.290      1.027      0.305   -1080.939    3454.335\n",
      "tow_bar           -239.7123     91.016     -2.634      0.009    -418.361     -61.064\n",
      "==============================================================================\n",
      "Omnibus:                       52.427   Durbin-Watson:                   1.990\n",
      "Prob(Omnibus):                  0.000   Jarque-Bera (JB):              200.254\n",
      "Skew:                           0.069   Prob(JB):                     3.28e-44\n",
      "Kurtosis:                       5.359   Cond. No.                     6.05e+20\n",
      "==============================================================================\n",
      "\n",
      "Notes:\n",
      "[1] Standard Errors assume that the covariance matrix of the errors is correctly specified.\n",
      "[2] The smallest eigenvalue is 1.51e-29. This might indicate that there are\n",
      "strong multicollinearity problems or that the design matrix is singular.\n"
     ]
    }
   ],
   "source": [
    "#Primera ejecución de una regresión con todas las variables.\n",
    "model = sm.OLS(y_train_1, sm.add_constant(x_train_1)).fit()\n",
    "print(model.summary())"
   ]
  },
  {
   "cell_type": "code",
   "execution_count": 30,
   "metadata": {
    "ExecuteTime": {
     "end_time": "2023-10-02T00:49:53.765403100Z",
     "start_time": "2023-10-02T00:49:53.751400400Z"
    },
    "colab": {
     "base_uri": "https://localhost:8080/"
    },
    "id": "kvkpXkTxpA6f",
    "outputId": "9b058a8e-e50e-4223-db3f-41a2324920ec"
   },
   "outputs": [
    {
     "name": "stdout",
     "output_type": "stream",
     "text": [
      "RMSE: 1376324.3921470148\n"
     ]
    }
   ],
   "source": [
    "#Linea Base\n",
    "\n",
    "#Calculamos RMSE (error cuadratico medio)\n",
    "y_pred_1 = model.predict(sm.add_constant(x_test_1))\n",
    "RMSE = mean_squared_error(y_test_1,y_pred_1, squared = 'false')\n",
    "print(f'RMSE: {RMSE}')"
   ]
  },
  {
   "cell_type": "markdown",
   "metadata": {
    "id": "6_RnVAPWdjrS"
   },
   "source": [
    " Tracking del primer modelo arrojado por la regresión (baseline)\n",
    "\n",
    "* R2: 0.912\n",
    "* R2-ajustado: 0.909\n",
    "* kurtosis: 5.359\n",
    "* skew: 0.069\n",
    "* durbin-watson: 1.990\n",
    "* RMSE: 1376324.3921468968"
   ]
  },
  {
   "cell_type": "code",
   "execution_count": 31,
   "metadata": {
    "ExecuteTime": {
     "end_time": "2023-10-02T00:50:06.874784Z",
     "start_time": "2023-10-02T00:50:06.856281200Z"
    },
    "colab": {
     "base_uri": "https://localhost:8080/"
    },
    "id": "_SLCYJX18KGa",
    "outputId": "1e285fd1-790f-443c-f70b-57e88c7d7fa4"
   },
   "outputs": [
    {
     "name": "stdout",
     "output_type": "stream",
     "text": [
      "1.99\n"
     ]
    }
   ],
   "source": [
    "dw = print(round(sm.stats.stattools.durbin_watson(model.resid),3))"
   ]
  },
  {
   "cell_type": "code",
   "execution_count": 32,
   "metadata": {
    "ExecuteTime": {
     "end_time": "2023-10-02T00:50:22.297863600Z",
     "start_time": "2023-10-02T00:50:16.535428700Z"
    },
    "id": "RT89opbP52vJ"
   },
   "outputs": [
    {
     "name": "stderr",
     "output_type": "stream",
     "text": [
      "2023/10/01 21:50:16 WARNING mlflow.utils.git_utils: Failed to import Git (the Git executable is probably not on your PATH), so Git SHA is not available. Error: Failed to initialize: Bad git executable.\n",
      "The git executable must be specified in one of the following ways:\n",
      "    - be included in your $PATH\n",
      "    - be set via $GIT_PYTHON_GIT_EXECUTABLE\n",
      "    - explicitly set via git.refresh()\n",
      "\n",
      "All git commands will error until this is rectified.\n",
      "\n",
      "This initial warning can be silenced or aggravated in the future by setting the\n",
      "$GIT_PYTHON_REFRESH environment variable. Use one of the following values:\n",
      "    - quiet|q|silence|s|none|n|0: for no warning or exception\n",
      "    - warn|w|warning|1: for a printed warning\n",
      "    - error|e|raise|r|2: for a raised exception\n",
      "\n",
      "Example:\n",
      "    export GIT_PYTHON_REFRESH=quiet\n",
      "\n"
     ]
    }
   ],
   "source": [
    "with mlflow.start_run():\n",
    "  #mlflow.log_metric(\"accuracy\", accuracy)\n",
    "  mlflow.log_params({\"R2\": model.rsquared, \"R2-Ajustado\": model.rsquared_adj, \"Skew\": model.resid.skew, \"Kurtosis\": model.resid.kurtosis, \"Durbin-Watson\": dw, \"MSE - RMSE\": RMSE})\n",
    "\n",
    "  mlflow.sklearn.log_model(model, \"modelo 1\")"
   ]
  },
  {
   "cell_type": "markdown",
   "metadata": {
    "id": "DjjIwGZZe0us"
   },
   "source": [
    "# Análisis de la regresión y decisión sobre las variables"
   ]
  },
  {
   "cell_type": "code",
   "execution_count": null,
   "metadata": {
    "id": "vfttwh0pchit"
   },
   "outputs": [],
   "source": [
    "# met_color -> t = 0.605 y P>|t| = 0.546\n",
    "# Falta de significancia estadística: El valor \"t\" se utiliza para evaluar si el coeficiente es estadísticamente\n",
    "# diferente de cero. En este caso, un valor \"t\" de 0.605 sugiere que el coeficiente no es muy diferente de cero.\n",
    "# Si el valor \"t\" es cercano a cero, esto indica que la variable independiente correspondiente puede no estar\n",
    "# contribuyendo significativamente a la predicción del resultado. Esto podría sugerir que la variable no es relevante\n",
    "# en el modelo y podría eliminarse.\n",
    "\n",
    "# Alto valor p: El valor \"P>|t|\" se utiliza para evaluar si el coeficiente es estadísticamente significativo.\n",
    "# Un valor p alto, como 0.546, sugiere que no hay suficiente evidencia para rechazar la hipótesis nula de que el\n",
    "# coeficiente es igual a cero. En otras palabras, la variable independiente no tiene un efecto estadísticamente\n",
    "# significativo en el resultado. Un valor p alto es una indicación de que la variable podría no ser importante en el\n",
    "# modelo.\n",
    "\n",
    "#Siguiendo esta linea las variables a eliminar son:\n",
    "\n",
    "# met_color ->  t = 0.605 y  P>|t| = 0.546\n",
    "# cc ->  t = -1.193 y  P>|t| = 0.233\n",
    "# gears ->  t = 0.763  y  P>|t| = 0.446\n",
    "# airbag_1 ->  t = 0.556  y  P>|t| = 0.578\n",
    "# airbag_2 ->  t = 0.441  y  P>|t| = 0.659\n",
    "# cd_player ->  t = 1.440  y  P>|t| = 0.150\n",
    "# central_lock -> t = -1.062  y  P>|t| = 0.289\n",
    "# power_steering -> t = -0.467 y  P>|t| = 0.641\n",
    "# radio -> t = -1.120  y  P>|t| = 0.263\n",
    "# mistlamps -> t = 0.247 y  P>|t| = 0.805\n",
    "# backseat_divider -> t = -0.955  y  P>|t| = 0.340\n",
    "# metallic_rim -> t = 0.219  y  P>|t| =  0.827\n",
    "# radio_cassette -> t = 1.027  y  P>|t| = 0.305"
   ]
  },
  {
   "cell_type": "markdown",
   "metadata": {
    "id": "MgSaErj7nRkG"
   },
   "source": [
    "# Comienzo nuevo modelo - MODELO 2"
   ]
  },
  {
   "cell_type": "code",
   "execution_count": null,
   "metadata": {
    "id": "YkMrWdFKi2Il"
   },
   "outputs": [],
   "source": [
    "columns_to_delete = ['met_color', 'cc', 'gears', 'airbag_1', 'airbag_2', 'cd_player', 'central_lock',\n",
    "                     'power_steering', 'radio', 'mistlamps', 'backseat_divider', 'metallic_rim', 'radio_cassette' ] #, 'mfg_month', 'mfg_year']\n",
    "df2 = df.drop(columns=columns_to_delete, axis=1)\n",
    "df2 = pd.DataFrame(df2)"
   ]
  },
  {
   "cell_type": "code",
   "execution_count": null,
   "metadata": {
    "colab": {
     "base_uri": "https://localhost:8080/"
    },
    "id": "fhSjhM-PuQ5h",
    "outputId": "fa94f1a4-7570-44c8-9182-bf1af0fc34f4"
   },
   "outputs": [],
   "source": [
    "split_param = {\n",
    "    'test_size': 0.4,\n",
    "    'random_state': 42,\n",
    "    'shuffle': True\n",
    "}\n",
    "\n",
    "x_train_2, x_test_2, y_train_2, y_test_2 = train_test_split(df2.drop(['price'], axis=1), df2.price, **split_param)\n",
    "x_train_2.shape, x_test_2.shape, y_train_2.shape, y_test_2.shape"
   ]
  },
  {
   "cell_type": "code",
   "execution_count": null,
   "metadata": {
    "colab": {
     "base_uri": "https://localhost:8080/"
    },
    "id": "czcKNMc3uZJJ",
    "outputId": "d13e6168-074b-4d0f-9220-a5bdfe9c4603"
   },
   "outputs": [],
   "source": [
    "#Segunda ejecución de una regresión con todas las variables.\n",
    "model2 = sm.OLS(y_train_2, sm.add_constant(x_train_2)).fit()\n",
    "print(model2.summary())"
   ]
  },
  {
   "cell_type": "code",
   "execution_count": null,
   "metadata": {
    "colab": {
     "base_uri": "https://localhost:8080/"
    },
    "id": "WZBpbwU4vkzS",
    "outputId": "ad2fda11-6e5c-435e-e7ab-537674471cb7"
   },
   "outputs": [],
   "source": [
    "#Calculamos RMSE (error cuadratico medio)\n",
    "y_pred_2 = model2.predict(sm.add_constant(x_test_2))\n",
    "RMSE = mean_squared_error(y_test_2,y_pred_2,squared = 'false')\n",
    "print(f'RMSE: {RMSE}')"
   ]
  },
  {
   "cell_type": "markdown",
   "metadata": {
    "id": "7z6jbH0GwpAy"
   },
   "source": [
    " Tracking del segundo modelo\n",
    "\n",
    "* R2: 0.911\n",
    "* R2-ajustado: 0.909\n",
    "* kurtosis: 5.460\n",
    "* skew: 0.040\n",
    "* durbin-watson: 1.978\n",
    "* RMSE: 1367838.6712162532"
   ]
  },
  {
   "cell_type": "code",
   "execution_count": null,
   "metadata": {
    "colab": {
     "base_uri": "https://localhost:8080/"
    },
    "id": "wT2zby7-DOak",
    "outputId": "53b44b2e-282b-476a-da9e-6efd637676a0"
   },
   "outputs": [],
   "source": [
    "dw = print(round(sm.stats.stattools.durbin_watson(model2.resid),3))"
   ]
  },
  {
   "cell_type": "code",
   "execution_count": null,
   "metadata": {
    "id": "UIsm0fADDRk0"
   },
   "outputs": [],
   "source": [
    "with mlflow.start_run():\n",
    "  #mlflow.log_metric(\"accuracy\", accuracy)\n",
    "  mlflow.log_params({\"R2\": model2.rsquared, \"R2-Ajustado\": model2.rsquared_adj, \"Skew\": model2.resid.skew, \"Kurtosis\": model2.resid.kurtosis, \"Durbin-Watson\": dw, \"MSE - RMSE\": RMSE})\n",
    "\n",
    "  mlflow.sklearn.log_model(model, \"modelo 2\")"
   ]
  },
  {
   "cell_type": "code",
   "execution_count": null,
   "metadata": {
    "id": "2JbnoJb9IvlM"
   },
   "outputs": [],
   "source": [
    "#Siguiendo esta linea las variables a eliminar son:\n",
    "\n",
    "# mfg_year\n",
    "# mfg_month\n",
    "# automatic\n",
    "# doors\n",
    "# mfr_guarantee"
   ]
  },
  {
   "cell_type": "markdown",
   "metadata": {
    "id": "X0EjdlmUJX-_"
   },
   "source": [
    "# Comienzo nuevo modelo - MODELO 3"
   ]
  },
  {
   "cell_type": "code",
   "execution_count": null,
   "metadata": {
    "id": "-LjrhhrRJbCk"
   },
   "outputs": [],
   "source": [
    "columns_to_delete = ['mfg_year', 'mfg_month', 'automatic', 'doors', 'mfr_guarantee']\n",
    "df3 = df2.drop(columns=columns_to_delete, axis=1)\n",
    "df3 = pd.DataFrame(df3)"
   ]
  },
  {
   "cell_type": "code",
   "execution_count": null,
   "metadata": {
    "colab": {
     "base_uri": "https://localhost:8080/"
    },
    "id": "EiVlOQFUJmo9",
    "outputId": "8bedda32-0940-42b8-c717-6a5bdeaf806e"
   },
   "outputs": [],
   "source": [
    "split_param = {\n",
    "    'test_size': 0.4,\n",
    "    'random_state': 42,\n",
    "    'shuffle': True\n",
    "}\n",
    "\n",
    "x_train_3, x_test_3, y_train_3, y_test_3 = train_test_split(df3.drop(['price'], axis=1), df3.price, **split_param)\n",
    "x_train_3.shape, x_test_3.shape, y_train_3.shape, y_test_3.shape"
   ]
  },
  {
   "cell_type": "code",
   "execution_count": null,
   "metadata": {
    "colab": {
     "base_uri": "https://localhost:8080/"
    },
    "id": "hFqBdn87Jqq0",
    "outputId": "df92f2c1-7b97-4b74-922b-009847bdc847"
   },
   "outputs": [],
   "source": [
    "#Tercera ejecución de una regresión con todas las variables.\n",
    "model3 = sm.OLS(y_train_3, sm.add_constant(x_train_3)).fit()\n",
    "print(model3.summary())"
   ]
  },
  {
   "cell_type": "code",
   "execution_count": null,
   "metadata": {
    "colab": {
     "base_uri": "https://localhost:8080/"
    },
    "id": "Mqpd6soaJz4k",
    "outputId": "8fde9ab3-2b2a-4f74-a02d-7903f9551e8d"
   },
   "outputs": [],
   "source": [
    "#Calculamos RMSE (error cuadratico medio)\n",
    "y_pred_3 = model3.predict(sm.add_constant(x_test_3))\n",
    "RMSE = mean_squared_error(y_test_3,y_pred_3, squared = 'false')\n",
    "print(f'RMSE: {RMSE}')"
   ]
  },
  {
   "cell_type": "markdown",
   "metadata": {
    "id": "kpyAxNUDJ6At"
   },
   "source": [
    "Tracking del segundo modelo\n",
    "\n",
    "* R2: 0.899\n",
    "* R2-ajustado: 0.897\n",
    "* kurtosis: 4.636\n",
    "* skew: -0.039\n",
    "* durbin-watson: 2.007\n",
    "* RMSE: 1438163.9047859225"
   ]
  },
  {
   "cell_type": "code",
   "execution_count": null,
   "metadata": {
    "colab": {
     "base_uri": "https://localhost:8080/"
    },
    "id": "_uS6Jf8bAhSb",
    "outputId": "7cdff280-ff7c-421b-9a39-52506207fa0b"
   },
   "outputs": [],
   "source": [
    "dw = print(round(sm.stats.stattools.durbin_watson(model3.resid),3))"
   ]
  },
  {
   "cell_type": "code",
   "execution_count": null,
   "metadata": {
    "id": "Zqlq-ZTeAitI"
   },
   "outputs": [],
   "source": [
    "with mlflow.start_run():\n",
    "  #mlflow.log_metric(\"accuracy\", accuracy)\n",
    "  mlflow.log_params({\"R2\": model3.rsquared, \"R2-Ajustado\": model3.rsquared_adj, \"Skew\": model3.resid.skew, \"Kurtosis\": model3.resid.kurtosis, \"Durbin-Watson\": dw, \"MSE - RMSE\": RMSE})\n",
    "\n",
    "  mlflow.sklearn.log_model(model, \"modelo 3\")"
   ]
  },
  {
   "cell_type": "code",
   "execution_count": null,
   "metadata": {
    "id": "wddMXbvtKUrG"
   },
   "outputs": [],
   "source": [
    "#Siguiendo esta linea las variables a eliminar son:\n",
    "\n",
    "# boardcomputer"
   ]
  },
  {
   "cell_type": "markdown",
   "metadata": {
    "id": "lB3KZT84KdBc"
   },
   "source": [
    "# Comienzo nuevo modelo - MODELO 4"
   ]
  },
  {
   "cell_type": "code",
   "execution_count": null,
   "metadata": {
    "id": "RNFqJ_ZyKfzE"
   },
   "outputs": [],
   "source": [
    "columns_to_delete = ['boardcomputer']\n",
    "df4 = df3.drop(columns=columns_to_delete, axis=1)\n",
    "df4 = pd.DataFrame(df4)"
   ]
  },
  {
   "cell_type": "code",
   "execution_count": null,
   "metadata": {
    "colab": {
     "base_uri": "https://localhost:8080/"
    },
    "id": "ZyMFAEWXKksm",
    "outputId": "89045e5a-593e-4c6d-b519-f1bd0d1cdc17"
   },
   "outputs": [],
   "source": [
    "split_param = {\n",
    "    'test_size': 0.4,\n",
    "    'random_state': 42,\n",
    "    'shuffle': True\n",
    "}\n",
    "\n",
    "x_train_4, x_test_4, y_train_4, y_test_4 = train_test_split(df4.drop(['price'], axis=1), df4.price, **split_param)\n",
    "x_train_4.shape, x_test_4.shape, y_train_4.shape, y_test_4.shape"
   ]
  },
  {
   "cell_type": "code",
   "execution_count": null,
   "metadata": {
    "colab": {
     "base_uri": "https://localhost:8080/"
    },
    "id": "HXO2iYF1KqCF",
    "outputId": "51ad6808-89b5-42ac-8ff3-24fa4159ff77"
   },
   "outputs": [],
   "source": [
    "#Cuarta ejecución de una regresión con todas las variables.\n",
    "model4 = sm.OLS(y_train_4, sm.add_constant(x_train_4)).fit()\n",
    "print(model4.summary())"
   ]
  },
  {
   "cell_type": "code",
   "execution_count": null,
   "metadata": {
    "colab": {
     "base_uri": "https://localhost:8080/"
    },
    "id": "meliBzLQKvo1",
    "outputId": "639101ab-b038-417f-ba72-10f874b43f70"
   },
   "outputs": [],
   "source": [
    "#Calculamos RMSE (error cuadratico medio)\n",
    "y_pred_4 = model4.predict(sm.add_constant(x_test_4))\n",
    "RMSE = mean_squared_error(y_test_4,y_pred_4, squared = 'false')\n",
    "print(f'RMSE: {RMSE}')"
   ]
  },
  {
   "cell_type": "code",
   "execution_count": null,
   "metadata": {
    "colab": {
     "base_uri": "https://localhost:8080/"
    },
    "id": "vVC8mch3DfpM",
    "outputId": "ca3a9448-6220-4427-ead7-906f81b2f0bd"
   },
   "outputs": [],
   "source": [
    "dw = print(round(sm.stats.stattools.durbin_watson(model4.resid),3))"
   ]
  },
  {
   "cell_type": "code",
   "execution_count": null,
   "metadata": {
    "id": "aVSsSJLbDj5c"
   },
   "outputs": [],
   "source": [
    "with mlflow.start_run():\n",
    "  #mlflow.log_metric(\"accuracy\", accuracy)\n",
    "  mlflow.log_params({\"R2\": model4.rsquared, \"R2-Ajustado\": model4.rsquared_adj, \"Skew\": model4.resid.skew, \"Kurtosis\": model4.resid.kurtosis, \"Durbin-Watson\": dw, \"MSE - RMSE\": RMSE})\n",
    "\n",
    "  mlflow.sklearn.log_model(model, \"modelo 4\")\n"
   ]
  },
  {
   "cell_type": "markdown",
   "metadata": {
    "id": "_Ox1FcZztC4c"
   },
   "source": [
    "TEST"
   ]
  },
  {
   "cell_type": "code",
   "execution_count": null,
   "metadata": {
    "id": "uZC3f8PWtE-T"
   },
   "outputs": [],
   "source": [
    "testDf = df4"
   ]
  },
  {
   "cell_type": "code",
   "execution_count": null,
   "metadata": {
    "colab": {
     "base_uri": "https://localhost:8080/",
     "height": 693
    },
    "id": "jJyYQph3ufxJ",
    "outputId": "59be4f69-2e79-4280-9d6e-d19246d82907"
   },
   "outputs": [],
   "source": [
    "fig, (ax1, ax2) = plt.subplots(nrows=1, ncols=2, figsize=(10, 7))\n",
    "fig.suptitle(\"Distribution of Price\")\n",
    "ax1.hist(testDf.price, bins=60)\n",
    "ax1.set_xlabel(testDf.price.name)\n",
    "\n",
    "ax2.boxplot(testDf.price)\n",
    "ax2.set_xlabel(testDf.price.name)\n",
    "\n",
    "plt.show()"
   ]
  },
  {
   "cell_type": "code",
   "execution_count": null,
   "metadata": {
    "colab": {
     "base_uri": "https://localhost:8080/",
     "height": 470
    },
    "id": "gCZ4YdBBuiIF",
    "outputId": "babfaf97-7db9-43e6-ff29-bfdefc136471"
   },
   "outputs": [],
   "source": [
    "sns.boxplot(x=\"km\", y=\"price\", data=testDf)\n",
    "max_value = plt.gca().lines[4].get_ydata().max()\n",
    "print(\"Valor máximo:\", max_value)"
   ]
  },
  {
   "cell_type": "code",
   "execution_count": null,
   "metadata": {
    "colab": {
     "base_uri": "https://localhost:8080/"
    },
    "id": "bY6Ude_Xu1PJ",
    "outputId": "41ce5704-0e72-4ccb-d48c-9c13b152fcc3"
   },
   "outputs": [],
   "source": [
    "# Crear una máscara booleana para los registros que cumplen la condición\n",
    "condicion = testDf['price'] <= 17847.5\n",
    "\n",
    "# Filtrar el DataFrame para mantener solo los registros que cumplen la condición\n",
    "df_filtrado = testDf[condicion]\n",
    "\n",
    "# Mostrar el DataFrame resultante\n",
    "df_filtrado.info()"
   ]
  },
  {
   "cell_type": "code",
   "execution_count": null,
   "metadata": {
    "colab": {
     "base_uri": "https://localhost:8080/",
     "height": 693
    },
    "id": "MGSCcMM1wSFK",
    "outputId": "67e3fe1e-16af-4b6d-fdf3-1ca22f3d0ab2"
   },
   "outputs": [],
   "source": [
    "fig, (ax1, ax2) = plt.subplots(nrows=1, ncols=2, figsize=(10, 7))\n",
    "fig.suptitle(\"Distribution of Price\")\n",
    "ax1.hist(df_filtrado.price, bins=80)\n",
    "ax1.set_xlabel(df_filtrado.price.name)\n",
    "\n",
    "ax2.boxplot(df_filtrado.price)\n",
    "ax2.set_xlabel(df_filtrado.price.name)\n",
    "\n",
    "plt.show()"
   ]
  },
  {
   "cell_type": "code",
   "execution_count": null,
   "metadata": {
    "colab": {
     "base_uri": "https://localhost:8080/",
     "height": 173
    },
    "id": "-IAYqXRgxO5H",
    "outputId": "6159c49d-d0f8-4408-8e9b-3439053825c2"
   },
   "outputs": [],
   "source": [
    "variables_continuas_scatter = ['age_08_04','km','hp','quarterly_tax','weight']\n",
    "\n",
    "fig = plt.figure(figsize=(34,25))\n",
    "\n",
    "for i in range(len(variables_continuas_scatter)):\n",
    "    aux = variables_continuas_scatter[i]\n",
    "\n",
    "    ax1 = fig.add_subplot(6,5,i+1)\n",
    "    ax1.set_xlabel(aux)\n",
    "\n",
    "    plt.scatter(df_filtrado[aux],df_filtrado.price)"
   ]
  },
  {
   "cell_type": "markdown",
   "metadata": {
    "id": "2x7g54kc4AJ_"
   },
   "source": [
    "# 5to Modelo"
   ]
  },
  {
   "cell_type": "code",
   "execution_count": null,
   "metadata": {
    "colab": {
     "base_uri": "https://localhost:8080/"
    },
    "id": "zTcLW79D3sbZ",
    "outputId": "5ac85e7f-972d-4493-b6de-da93634dbfb8"
   },
   "outputs": [],
   "source": [
    "split_param = {\n",
    "    'test_size': 0.4,\n",
    "    'random_state': 42,\n",
    "    'shuffle': True\n",
    "}\n",
    "\n",
    "x_train_5, x_test_5, y_train_5, y_test_5 = train_test_split(df_filtrado.drop(['price'], axis=1), df_filtrado.price, **split_param)\n",
    "x_train_5.shape, x_test_5.shape, y_train_5.shape, y_test_5.shape"
   ]
  },
  {
   "cell_type": "code",
   "execution_count": null,
   "metadata": {
    "colab": {
     "base_uri": "https://localhost:8080/"
    },
    "id": "gTQWXw_j4DIw",
    "outputId": "fb1dcbbb-9ad2-4646-d99b-98623cf6f844"
   },
   "outputs": [],
   "source": [
    "#Cuarta ejecución de una regresión con todas las variables.\n",
    "model5 = sm.OLS(y_train_5, sm.add_constant(x_train_5)).fit()\n",
    "print(model5.summary())"
   ]
  },
  {
   "cell_type": "code",
   "execution_count": null,
   "metadata": {
    "colab": {
     "base_uri": "https://localhost:8080/"
    },
    "id": "7yVGrNCUD7C8",
    "outputId": "442f1f15-732b-454f-d9e2-fa66f1089f5b"
   },
   "outputs": [],
   "source": [
    "#Calculamos RMSE (error cuadratico medio)\n",
    "y_pred_5 = model5.predict(sm.add_constant(x_test_5))\n",
    "RMSE = mean_squared_error(y_test_5,y_pred_5, squared = 'false')\n",
    "print(f'RMSE: {RMSE}')"
   ]
  },
  {
   "cell_type": "code",
   "execution_count": null,
   "metadata": {
    "colab": {
     "base_uri": "https://localhost:8080/"
    },
    "id": "P8v5Lh2jECLE",
    "outputId": "434f3327-b0bd-42e0-cbd0-014e8edfe168"
   },
   "outputs": [],
   "source": [
    "dw = print(round(sm.stats.stattools.durbin_watson(model5.resid),3))"
   ]
  },
  {
   "cell_type": "code",
   "execution_count": null,
   "metadata": {
    "id": "tl_qnzgHEFl8"
   },
   "outputs": [],
   "source": [
    "with mlflow.start_run():\n",
    "  #mlflow.log_metric(\"accuracy\", accuracy)\n",
    "  mlflow.log_params({\"R2\": model5.rsquared, \"R2-Ajustado\": model5.rsquared_adj, \"Skew\": model5.resid.skew, \"Kurtosis\": model5.resid.kurtosis, \"Durbin-Watson\": dw, \"MSE - RMSE\": RMSE})\n",
    "\n",
    "  mlflow.sklearn.log_model(model, \"modelo 5\")"
   ]
  },
  {
   "cell_type": "code",
   "execution_count": null,
   "metadata": {
    "colab": {
     "base_uri": "https://localhost:8080/",
     "height": 1000
    },
    "id": "2eVtu71i4nlZ",
    "outputId": "32aaae9a-56ce-4ad0-e753-c1a85abc7ba3"
   },
   "outputs": [],
   "source": [
    "plt.figure(figsize=(12,12))\n",
    "plt.title(\"Mapa de Correlaciones\")\n",
    "corr = df_filtrado.corr(method=\"pearson\")\n",
    "sns.heatmap(corr, annot=True, cmap=plt.cm.viridis, linewidths=0.1, linecolor=\"white\", square=True)"
   ]
  }
 ],
 "metadata": {
  "colab": {
   "provenance": []
  },
  "kernelspec": {
   "display_name": "Python 3 (ipykernel)",
   "language": "python",
   "name": "python3"
  },
  "language_info": {
   "codemirror_mode": {
    "name": "ipython",
    "version": 3
   },
   "file_extension": ".py",
   "mimetype": "text/x-python",
   "name": "python",
   "nbconvert_exporter": "python",
   "pygments_lexer": "ipython3",
   "version": "3.11.5"
  }
 },
 "nbformat": 4,
 "nbformat_minor": 1
}
